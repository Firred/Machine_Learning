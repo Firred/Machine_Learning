{
 "cells": [
  {
   "cell_type": "markdown",
   "metadata": {},
   "source": [
    ">**Alumnos**: *Adrián Ogáyar Sanchez y Arturo Barbero Pérez*\n",
    "\n",
    ">**Grupo**: *11*\n",
    "\n",
    "***"
   ]
  },
  {
   "cell_type": "markdown",
   "metadata": {},
   "source": [
    "# ÍNDICE\n",
    "\n",
    "* VISUALIZACIÓN DE LOS DATOS\n",
    "\n",
    "    + Variables desaparecidas\n",
    "    + Sustitución de las variables desaparecidas\n",
    "    \n",
    "        - Variables numéricas\n",
    "        - Variables categóricas\n",
    "        - Comprobando fiabilidad de los datos\n",
    "            + Ajustar Lambda\n",
    "\n",
    "* REGRESIÓN LOGÍSTICA\n",
    "\n",
    "* REDES NEURONALES\n",
    "\n",
    "    + Hipótesis\n",
    "    + Función de coste\n",
    "    + Gradiente\n",
    "    \n",
    "* SUPPORT VECTOR MACHINES\n",
    "\n",
    "    + Kernel\n",
    "    + Parámetro de regulación *C*\n",
    "    \n",
    "* CONCLUSIONES\n",
    "\n",
    "* BIBLIOGRAFÍA"
   ]
  },
  {
   "cell_type": "markdown",
   "metadata": {},
   "source": [
    "***"
   ]
  },
  {
   "cell_type": "markdown",
   "metadata": {},
   "source": [
    "Comenzamos importando las librerías que van a ser necesarias durante el desarrollo del proyecto: La librería **Pyplot** es necesaría para poder hacer el graficado de los números contenidos en la matriz de datos. **NumPy** es la librería que nos permite realizar calculos entre matrices y vectores de manera de más eficiente gracias a la vectorización. Importamos, además, **Pandas** que proporciona estructuras de datos de alto rendimiento, y herramientas de análisis de datos. Por último, añadimos **Optimize** que nos permitiría entrenar nuestros datos."
   ]
  },
  {
   "cell_type": "code",
   "execution_count": 1,
   "metadata": {},
   "outputs": [],
   "source": [
    "import pandas as pd\n",
    "import numpy as np\n",
    "import matplotlib.pyplot as plt\n",
    "import scipy.optimize as opt"
   ]
  },
  {
   "cell_type": "markdown",
   "metadata": {},
   "source": [
    "# VISUALIZACIÓN DE LOS DATOS"
   ]
  },
  {
   "cell_type": "code",
   "execution_count": 2,
   "metadata": {},
   "outputs": [],
   "source": [
    "target_url = (\"http://archive.ics.uci.edu/ml/machine-learning-databases/credit-screening/crx.data\")\n",
    "header = [\"A1\", \"A2\", \"A3\", \"A4\", \"A5\", \"A6\", \"A7\", \"A8\", \"A9\", \"A10\", \"A11\", \"A12\", \"A13\", \"A14\", \"A15\", \"A16\"]\n",
    "types = {'A2': 'float64'}\n",
    "data = pd.read_csv(target_url, names=header)"
   ]
  },
  {
   "cell_type": "code",
   "execution_count": 107,
   "metadata": {},
   "outputs": [
    {
     "data": {
      "text/html": [
       "<div>\n",
       "<style scoped>\n",
       "    .dataframe tbody tr th:only-of-type {\n",
       "        vertical-align: middle;\n",
       "    }\n",
       "\n",
       "    .dataframe tbody tr th {\n",
       "        vertical-align: top;\n",
       "    }\n",
       "\n",
       "    .dataframe thead th {\n",
       "        text-align: right;\n",
       "    }\n",
       "</style>\n",
       "<table border=\"1\" class=\"dataframe\">\n",
       "  <thead>\n",
       "    <tr style=\"text-align: right;\">\n",
       "      <th></th>\n",
       "      <th>A1</th>\n",
       "      <th>A2</th>\n",
       "      <th>A3</th>\n",
       "      <th>A4</th>\n",
       "      <th>A5</th>\n",
       "      <th>A6</th>\n",
       "      <th>A7</th>\n",
       "      <th>A8</th>\n",
       "      <th>A9</th>\n",
       "      <th>A10</th>\n",
       "      <th>A11</th>\n",
       "      <th>A12</th>\n",
       "      <th>A13</th>\n",
       "      <th>A14</th>\n",
       "      <th>A15</th>\n",
       "      <th>A16</th>\n",
       "    </tr>\n",
       "  </thead>\n",
       "  <tbody>\n",
       "    <tr>\n",
       "      <th>0</th>\n",
       "      <td>b</td>\n",
       "      <td>30.83</td>\n",
       "      <td>0.000</td>\n",
       "      <td>u</td>\n",
       "      <td>g</td>\n",
       "      <td>w</td>\n",
       "      <td>v</td>\n",
       "      <td>1.250</td>\n",
       "      <td>t</td>\n",
       "      <td>t</td>\n",
       "      <td>1</td>\n",
       "      <td>f</td>\n",
       "      <td>g</td>\n",
       "      <td>00202</td>\n",
       "      <td>0</td>\n",
       "      <td>1</td>\n",
       "    </tr>\n",
       "    <tr>\n",
       "      <th>1</th>\n",
       "      <td>a</td>\n",
       "      <td>58.67</td>\n",
       "      <td>4.460</td>\n",
       "      <td>u</td>\n",
       "      <td>g</td>\n",
       "      <td>q</td>\n",
       "      <td>h</td>\n",
       "      <td>3.040</td>\n",
       "      <td>t</td>\n",
       "      <td>t</td>\n",
       "      <td>6</td>\n",
       "      <td>f</td>\n",
       "      <td>g</td>\n",
       "      <td>00043</td>\n",
       "      <td>560</td>\n",
       "      <td>1</td>\n",
       "    </tr>\n",
       "    <tr>\n",
       "      <th>2</th>\n",
       "      <td>a</td>\n",
       "      <td>24.50</td>\n",
       "      <td>0.500</td>\n",
       "      <td>u</td>\n",
       "      <td>g</td>\n",
       "      <td>q</td>\n",
       "      <td>h</td>\n",
       "      <td>1.500</td>\n",
       "      <td>t</td>\n",
       "      <td>f</td>\n",
       "      <td>0</td>\n",
       "      <td>f</td>\n",
       "      <td>g</td>\n",
       "      <td>00280</td>\n",
       "      <td>824</td>\n",
       "      <td>1</td>\n",
       "    </tr>\n",
       "    <tr>\n",
       "      <th>3</th>\n",
       "      <td>b</td>\n",
       "      <td>27.83</td>\n",
       "      <td>1.540</td>\n",
       "      <td>u</td>\n",
       "      <td>g</td>\n",
       "      <td>w</td>\n",
       "      <td>v</td>\n",
       "      <td>3.750</td>\n",
       "      <td>t</td>\n",
       "      <td>t</td>\n",
       "      <td>5</td>\n",
       "      <td>t</td>\n",
       "      <td>g</td>\n",
       "      <td>00100</td>\n",
       "      <td>3</td>\n",
       "      <td>1</td>\n",
       "    </tr>\n",
       "    <tr>\n",
       "      <th>4</th>\n",
       "      <td>b</td>\n",
       "      <td>20.17</td>\n",
       "      <td>5.625</td>\n",
       "      <td>u</td>\n",
       "      <td>g</td>\n",
       "      <td>w</td>\n",
       "      <td>v</td>\n",
       "      <td>1.710</td>\n",
       "      <td>t</td>\n",
       "      <td>f</td>\n",
       "      <td>0</td>\n",
       "      <td>f</td>\n",
       "      <td>s</td>\n",
       "      <td>00120</td>\n",
       "      <td>0</td>\n",
       "      <td>1</td>\n",
       "    </tr>\n",
       "    <tr>\n",
       "      <th>5</th>\n",
       "      <td>b</td>\n",
       "      <td>32.08</td>\n",
       "      <td>4.000</td>\n",
       "      <td>u</td>\n",
       "      <td>g</td>\n",
       "      <td>m</td>\n",
       "      <td>v</td>\n",
       "      <td>2.500</td>\n",
       "      <td>t</td>\n",
       "      <td>f</td>\n",
       "      <td>0</td>\n",
       "      <td>t</td>\n",
       "      <td>g</td>\n",
       "      <td>00360</td>\n",
       "      <td>0</td>\n",
       "      <td>1</td>\n",
       "    </tr>\n",
       "    <tr>\n",
       "      <th>6</th>\n",
       "      <td>b</td>\n",
       "      <td>33.17</td>\n",
       "      <td>1.040</td>\n",
       "      <td>u</td>\n",
       "      <td>g</td>\n",
       "      <td>r</td>\n",
       "      <td>h</td>\n",
       "      <td>6.500</td>\n",
       "      <td>t</td>\n",
       "      <td>f</td>\n",
       "      <td>0</td>\n",
       "      <td>t</td>\n",
       "      <td>g</td>\n",
       "      <td>00164</td>\n",
       "      <td>31285</td>\n",
       "      <td>1</td>\n",
       "    </tr>\n",
       "    <tr>\n",
       "      <th>7</th>\n",
       "      <td>a</td>\n",
       "      <td>22.92</td>\n",
       "      <td>11.585</td>\n",
       "      <td>u</td>\n",
       "      <td>g</td>\n",
       "      <td>cc</td>\n",
       "      <td>v</td>\n",
       "      <td>0.040</td>\n",
       "      <td>t</td>\n",
       "      <td>f</td>\n",
       "      <td>0</td>\n",
       "      <td>f</td>\n",
       "      <td>g</td>\n",
       "      <td>00080</td>\n",
       "      <td>1349</td>\n",
       "      <td>1</td>\n",
       "    </tr>\n",
       "    <tr>\n",
       "      <th>8</th>\n",
       "      <td>b</td>\n",
       "      <td>54.42</td>\n",
       "      <td>0.500</td>\n",
       "      <td>y</td>\n",
       "      <td>p</td>\n",
       "      <td>k</td>\n",
       "      <td>h</td>\n",
       "      <td>3.960</td>\n",
       "      <td>t</td>\n",
       "      <td>f</td>\n",
       "      <td>0</td>\n",
       "      <td>f</td>\n",
       "      <td>g</td>\n",
       "      <td>00180</td>\n",
       "      <td>314</td>\n",
       "      <td>1</td>\n",
       "    </tr>\n",
       "    <tr>\n",
       "      <th>9</th>\n",
       "      <td>b</td>\n",
       "      <td>42.50</td>\n",
       "      <td>4.915</td>\n",
       "      <td>y</td>\n",
       "      <td>p</td>\n",
       "      <td>w</td>\n",
       "      <td>v</td>\n",
       "      <td>3.165</td>\n",
       "      <td>t</td>\n",
       "      <td>f</td>\n",
       "      <td>0</td>\n",
       "      <td>t</td>\n",
       "      <td>g</td>\n",
       "      <td>00052</td>\n",
       "      <td>1442</td>\n",
       "      <td>1</td>\n",
       "    </tr>\n",
       "    <tr>\n",
       "      <th>10</th>\n",
       "      <td>b</td>\n",
       "      <td>22.08</td>\n",
       "      <td>0.830</td>\n",
       "      <td>u</td>\n",
       "      <td>g</td>\n",
       "      <td>c</td>\n",
       "      <td>h</td>\n",
       "      <td>2.165</td>\n",
       "      <td>f</td>\n",
       "      <td>f</td>\n",
       "      <td>0</td>\n",
       "      <td>t</td>\n",
       "      <td>g</td>\n",
       "      <td>00128</td>\n",
       "      <td>0</td>\n",
       "      <td>1</td>\n",
       "    </tr>\n",
       "    <tr>\n",
       "      <th>11</th>\n",
       "      <td>b</td>\n",
       "      <td>29.92</td>\n",
       "      <td>1.835</td>\n",
       "      <td>u</td>\n",
       "      <td>g</td>\n",
       "      <td>c</td>\n",
       "      <td>h</td>\n",
       "      <td>4.335</td>\n",
       "      <td>t</td>\n",
       "      <td>f</td>\n",
       "      <td>0</td>\n",
       "      <td>f</td>\n",
       "      <td>g</td>\n",
       "      <td>00260</td>\n",
       "      <td>200</td>\n",
       "      <td>1</td>\n",
       "    </tr>\n",
       "    <tr>\n",
       "      <th>12</th>\n",
       "      <td>a</td>\n",
       "      <td>38.25</td>\n",
       "      <td>6.000</td>\n",
       "      <td>u</td>\n",
       "      <td>g</td>\n",
       "      <td>k</td>\n",
       "      <td>v</td>\n",
       "      <td>1.000</td>\n",
       "      <td>t</td>\n",
       "      <td>f</td>\n",
       "      <td>0</td>\n",
       "      <td>t</td>\n",
       "      <td>g</td>\n",
       "      <td>00000</td>\n",
       "      <td>0</td>\n",
       "      <td>1</td>\n",
       "    </tr>\n",
       "    <tr>\n",
       "      <th>13</th>\n",
       "      <td>b</td>\n",
       "      <td>48.08</td>\n",
       "      <td>6.040</td>\n",
       "      <td>u</td>\n",
       "      <td>g</td>\n",
       "      <td>k</td>\n",
       "      <td>v</td>\n",
       "      <td>0.040</td>\n",
       "      <td>f</td>\n",
       "      <td>f</td>\n",
       "      <td>0</td>\n",
       "      <td>f</td>\n",
       "      <td>g</td>\n",
       "      <td>00000</td>\n",
       "      <td>2690</td>\n",
       "      <td>1</td>\n",
       "    </tr>\n",
       "    <tr>\n",
       "      <th>14</th>\n",
       "      <td>a</td>\n",
       "      <td>45.83</td>\n",
       "      <td>10.500</td>\n",
       "      <td>u</td>\n",
       "      <td>g</td>\n",
       "      <td>q</td>\n",
       "      <td>v</td>\n",
       "      <td>5.000</td>\n",
       "      <td>t</td>\n",
       "      <td>t</td>\n",
       "      <td>7</td>\n",
       "      <td>t</td>\n",
       "      <td>g</td>\n",
       "      <td>00000</td>\n",
       "      <td>0</td>\n",
       "      <td>1</td>\n",
       "    </tr>\n",
       "    <tr>\n",
       "      <th>15</th>\n",
       "      <td>b</td>\n",
       "      <td>36.67</td>\n",
       "      <td>4.415</td>\n",
       "      <td>y</td>\n",
       "      <td>p</td>\n",
       "      <td>k</td>\n",
       "      <td>v</td>\n",
       "      <td>0.250</td>\n",
       "      <td>t</td>\n",
       "      <td>t</td>\n",
       "      <td>10</td>\n",
       "      <td>t</td>\n",
       "      <td>g</td>\n",
       "      <td>00320</td>\n",
       "      <td>0</td>\n",
       "      <td>1</td>\n",
       "    </tr>\n",
       "    <tr>\n",
       "      <th>16</th>\n",
       "      <td>b</td>\n",
       "      <td>28.25</td>\n",
       "      <td>0.875</td>\n",
       "      <td>u</td>\n",
       "      <td>g</td>\n",
       "      <td>m</td>\n",
       "      <td>v</td>\n",
       "      <td>0.960</td>\n",
       "      <td>t</td>\n",
       "      <td>t</td>\n",
       "      <td>3</td>\n",
       "      <td>t</td>\n",
       "      <td>g</td>\n",
       "      <td>00396</td>\n",
       "      <td>0</td>\n",
       "      <td>1</td>\n",
       "    </tr>\n",
       "    <tr>\n",
       "      <th>17</th>\n",
       "      <td>a</td>\n",
       "      <td>23.25</td>\n",
       "      <td>5.875</td>\n",
       "      <td>u</td>\n",
       "      <td>g</td>\n",
       "      <td>q</td>\n",
       "      <td>v</td>\n",
       "      <td>3.170</td>\n",
       "      <td>t</td>\n",
       "      <td>t</td>\n",
       "      <td>10</td>\n",
       "      <td>f</td>\n",
       "      <td>g</td>\n",
       "      <td>00120</td>\n",
       "      <td>245</td>\n",
       "      <td>1</td>\n",
       "    </tr>\n",
       "    <tr>\n",
       "      <th>18</th>\n",
       "      <td>b</td>\n",
       "      <td>21.83</td>\n",
       "      <td>0.250</td>\n",
       "      <td>u</td>\n",
       "      <td>g</td>\n",
       "      <td>d</td>\n",
       "      <td>h</td>\n",
       "      <td>0.665</td>\n",
       "      <td>t</td>\n",
       "      <td>f</td>\n",
       "      <td>0</td>\n",
       "      <td>t</td>\n",
       "      <td>g</td>\n",
       "      <td>00000</td>\n",
       "      <td>0</td>\n",
       "      <td>1</td>\n",
       "    </tr>\n",
       "    <tr>\n",
       "      <th>19</th>\n",
       "      <td>a</td>\n",
       "      <td>19.17</td>\n",
       "      <td>8.585</td>\n",
       "      <td>u</td>\n",
       "      <td>g</td>\n",
       "      <td>cc</td>\n",
       "      <td>h</td>\n",
       "      <td>0.750</td>\n",
       "      <td>t</td>\n",
       "      <td>t</td>\n",
       "      <td>7</td>\n",
       "      <td>f</td>\n",
       "      <td>g</td>\n",
       "      <td>00096</td>\n",
       "      <td>0</td>\n",
       "      <td>1</td>\n",
       "    </tr>\n",
       "    <tr>\n",
       "      <th>20</th>\n",
       "      <td>b</td>\n",
       "      <td>25.00</td>\n",
       "      <td>11.250</td>\n",
       "      <td>u</td>\n",
       "      <td>g</td>\n",
       "      <td>c</td>\n",
       "      <td>v</td>\n",
       "      <td>2.500</td>\n",
       "      <td>t</td>\n",
       "      <td>t</td>\n",
       "      <td>17</td>\n",
       "      <td>f</td>\n",
       "      <td>g</td>\n",
       "      <td>00200</td>\n",
       "      <td>1208</td>\n",
       "      <td>1</td>\n",
       "    </tr>\n",
       "    <tr>\n",
       "      <th>21</th>\n",
       "      <td>b</td>\n",
       "      <td>23.25</td>\n",
       "      <td>1.000</td>\n",
       "      <td>u</td>\n",
       "      <td>g</td>\n",
       "      <td>c</td>\n",
       "      <td>v</td>\n",
       "      <td>0.835</td>\n",
       "      <td>t</td>\n",
       "      <td>f</td>\n",
       "      <td>0</td>\n",
       "      <td>f</td>\n",
       "      <td>s</td>\n",
       "      <td>00300</td>\n",
       "      <td>0</td>\n",
       "      <td>1</td>\n",
       "    </tr>\n",
       "    <tr>\n",
       "      <th>22</th>\n",
       "      <td>a</td>\n",
       "      <td>47.75</td>\n",
       "      <td>8.000</td>\n",
       "      <td>u</td>\n",
       "      <td>g</td>\n",
       "      <td>c</td>\n",
       "      <td>v</td>\n",
       "      <td>7.875</td>\n",
       "      <td>t</td>\n",
       "      <td>t</td>\n",
       "      <td>6</td>\n",
       "      <td>t</td>\n",
       "      <td>g</td>\n",
       "      <td>00000</td>\n",
       "      <td>1260</td>\n",
       "      <td>1</td>\n",
       "    </tr>\n",
       "    <tr>\n",
       "      <th>23</th>\n",
       "      <td>a</td>\n",
       "      <td>27.42</td>\n",
       "      <td>14.500</td>\n",
       "      <td>u</td>\n",
       "      <td>g</td>\n",
       "      <td>x</td>\n",
       "      <td>h</td>\n",
       "      <td>3.085</td>\n",
       "      <td>t</td>\n",
       "      <td>t</td>\n",
       "      <td>1</td>\n",
       "      <td>f</td>\n",
       "      <td>g</td>\n",
       "      <td>00120</td>\n",
       "      <td>11</td>\n",
       "      <td>1</td>\n",
       "    </tr>\n",
       "    <tr>\n",
       "      <th>24</th>\n",
       "      <td>a</td>\n",
       "      <td>41.17</td>\n",
       "      <td>6.500</td>\n",
       "      <td>u</td>\n",
       "      <td>g</td>\n",
       "      <td>q</td>\n",
       "      <td>v</td>\n",
       "      <td>0.500</td>\n",
       "      <td>t</td>\n",
       "      <td>t</td>\n",
       "      <td>3</td>\n",
       "      <td>t</td>\n",
       "      <td>g</td>\n",
       "      <td>00145</td>\n",
       "      <td>0</td>\n",
       "      <td>1</td>\n",
       "    </tr>\n",
       "  </tbody>\n",
       "</table>\n",
       "</div>"
      ],
      "text/plain": [
       "   A1     A2      A3 A4 A5  A6 A7     A8 A9 A10  A11 A12 A13    A14    A15  \\\n",
       "0   b  30.83   0.000  u  g   w  v  1.250  t   t    1   f   g  00202      0   \n",
       "1   a  58.67   4.460  u  g   q  h  3.040  t   t    6   f   g  00043    560   \n",
       "2   a  24.50   0.500  u  g   q  h  1.500  t   f    0   f   g  00280    824   \n",
       "3   b  27.83   1.540  u  g   w  v  3.750  t   t    5   t   g  00100      3   \n",
       "4   b  20.17   5.625  u  g   w  v  1.710  t   f    0   f   s  00120      0   \n",
       "5   b  32.08   4.000  u  g   m  v  2.500  t   f    0   t   g  00360      0   \n",
       "6   b  33.17   1.040  u  g   r  h  6.500  t   f    0   t   g  00164  31285   \n",
       "7   a  22.92  11.585  u  g  cc  v  0.040  t   f    0   f   g  00080   1349   \n",
       "8   b  54.42   0.500  y  p   k  h  3.960  t   f    0   f   g  00180    314   \n",
       "9   b  42.50   4.915  y  p   w  v  3.165  t   f    0   t   g  00052   1442   \n",
       "10  b  22.08   0.830  u  g   c  h  2.165  f   f    0   t   g  00128      0   \n",
       "11  b  29.92   1.835  u  g   c  h  4.335  t   f    0   f   g  00260    200   \n",
       "12  a  38.25   6.000  u  g   k  v  1.000  t   f    0   t   g  00000      0   \n",
       "13  b  48.08   6.040  u  g   k  v  0.040  f   f    0   f   g  00000   2690   \n",
       "14  a  45.83  10.500  u  g   q  v  5.000  t   t    7   t   g  00000      0   \n",
       "15  b  36.67   4.415  y  p   k  v  0.250  t   t   10   t   g  00320      0   \n",
       "16  b  28.25   0.875  u  g   m  v  0.960  t   t    3   t   g  00396      0   \n",
       "17  a  23.25   5.875  u  g   q  v  3.170  t   t   10   f   g  00120    245   \n",
       "18  b  21.83   0.250  u  g   d  h  0.665  t   f    0   t   g  00000      0   \n",
       "19  a  19.17   8.585  u  g  cc  h  0.750  t   t    7   f   g  00096      0   \n",
       "20  b  25.00  11.250  u  g   c  v  2.500  t   t   17   f   g  00200   1208   \n",
       "21  b  23.25   1.000  u  g   c  v  0.835  t   f    0   f   s  00300      0   \n",
       "22  a  47.75   8.000  u  g   c  v  7.875  t   t    6   t   g  00000   1260   \n",
       "23  a  27.42  14.500  u  g   x  h  3.085  t   t    1   f   g  00120     11   \n",
       "24  a  41.17   6.500  u  g   q  v  0.500  t   t    3   t   g  00145      0   \n",
       "\n",
       "    A16  \n",
       "0     1  \n",
       "1     1  \n",
       "2     1  \n",
       "3     1  \n",
       "4     1  \n",
       "5     1  \n",
       "6     1  \n",
       "7     1  \n",
       "8     1  \n",
       "9     1  \n",
       "10    1  \n",
       "11    1  \n",
       "12    1  \n",
       "13    1  \n",
       "14    1  \n",
       "15    1  \n",
       "16    1  \n",
       "17    1  \n",
       "18    1  \n",
       "19    1  \n",
       "20    1  \n",
       "21    1  \n",
       "22    1  \n",
       "23    1  \n",
       "24    1  "
      ]
     },
     "execution_count": 107,
     "metadata": {},
     "output_type": "execute_result"
    }
   ],
   "source": [
    "data.head(25)"
   ]
  },
  {
   "cell_type": "markdown",
   "metadata": {},
   "source": [
    "## VARIABLES DESAPARECIDAS"
   ]
  },
  {
   "cell_type": "markdown",
   "metadata": {},
   "source": [
    "Uno de los problemas que nos encontramos es que los datos están compuestos por números y letras, por lo que en este estado resulta imposible operar con ellos.\n",
    "Para poder utilizarlos usamos el metodo de *One Hot Encode*, de modo que las variables con strings se dividen múltiples variables que contienen los posibles valores de la variable inicial con un 1 si el caso tiene ese string o 0 si no.\n",
    "Con *pandas.get_dummies* podemos realizar esta operación de forma automática."
   ]
  },
  {
   "cell_type": "code",
   "execution_count": 4,
   "metadata": {},
   "outputs": [
    {
     "data": {
      "text/html": [
       "<div>\n",
       "<style scoped>\n",
       "    .dataframe tbody tr th:only-of-type {\n",
       "        vertical-align: middle;\n",
       "    }\n",
       "\n",
       "    .dataframe tbody tr th {\n",
       "        vertical-align: top;\n",
       "    }\n",
       "\n",
       "    .dataframe thead th {\n",
       "        text-align: right;\n",
       "    }\n",
       "</style>\n",
       "<table border=\"1\" class=\"dataframe\">\n",
       "  <thead>\n",
       "    <tr style=\"text-align: right;\">\n",
       "      <th></th>\n",
       "      <th>A3</th>\n",
       "      <th>A8</th>\n",
       "      <th>A11</th>\n",
       "      <th>A15</th>\n",
       "      <th>A1_?</th>\n",
       "      <th>A1_a</th>\n",
       "      <th>A1_b</th>\n",
       "      <th>A2_13.75</th>\n",
       "      <th>A2_15.17</th>\n",
       "      <th>A2_15.75</th>\n",
       "      <th>...</th>\n",
       "      <th>A14_00720</th>\n",
       "      <th>A14_00760</th>\n",
       "      <th>A14_00840</th>\n",
       "      <th>A14_00928</th>\n",
       "      <th>A14_00980</th>\n",
       "      <th>A14_01160</th>\n",
       "      <th>A14_02000</th>\n",
       "      <th>A14_?</th>\n",
       "      <th>A16_+</th>\n",
       "      <th>A16_-</th>\n",
       "    </tr>\n",
       "  </thead>\n",
       "  <tbody>\n",
       "    <tr>\n",
       "      <th>0</th>\n",
       "      <td>0.000</td>\n",
       "      <td>1.25</td>\n",
       "      <td>1</td>\n",
       "      <td>0</td>\n",
       "      <td>0</td>\n",
       "      <td>0</td>\n",
       "      <td>1</td>\n",
       "      <td>0</td>\n",
       "      <td>0</td>\n",
       "      <td>0</td>\n",
       "      <td>...</td>\n",
       "      <td>0</td>\n",
       "      <td>0</td>\n",
       "      <td>0</td>\n",
       "      <td>0</td>\n",
       "      <td>0</td>\n",
       "      <td>0</td>\n",
       "      <td>0</td>\n",
       "      <td>0</td>\n",
       "      <td>1</td>\n",
       "      <td>0</td>\n",
       "    </tr>\n",
       "    <tr>\n",
       "      <th>1</th>\n",
       "      <td>4.460</td>\n",
       "      <td>3.04</td>\n",
       "      <td>6</td>\n",
       "      <td>560</td>\n",
       "      <td>0</td>\n",
       "      <td>1</td>\n",
       "      <td>0</td>\n",
       "      <td>0</td>\n",
       "      <td>0</td>\n",
       "      <td>0</td>\n",
       "      <td>...</td>\n",
       "      <td>0</td>\n",
       "      <td>0</td>\n",
       "      <td>0</td>\n",
       "      <td>0</td>\n",
       "      <td>0</td>\n",
       "      <td>0</td>\n",
       "      <td>0</td>\n",
       "      <td>0</td>\n",
       "      <td>1</td>\n",
       "      <td>0</td>\n",
       "    </tr>\n",
       "    <tr>\n",
       "      <th>2</th>\n",
       "      <td>0.500</td>\n",
       "      <td>1.50</td>\n",
       "      <td>0</td>\n",
       "      <td>824</td>\n",
       "      <td>0</td>\n",
       "      <td>1</td>\n",
       "      <td>0</td>\n",
       "      <td>0</td>\n",
       "      <td>0</td>\n",
       "      <td>0</td>\n",
       "      <td>...</td>\n",
       "      <td>0</td>\n",
       "      <td>0</td>\n",
       "      <td>0</td>\n",
       "      <td>0</td>\n",
       "      <td>0</td>\n",
       "      <td>0</td>\n",
       "      <td>0</td>\n",
       "      <td>0</td>\n",
       "      <td>1</td>\n",
       "      <td>0</td>\n",
       "    </tr>\n",
       "    <tr>\n",
       "      <th>3</th>\n",
       "      <td>1.540</td>\n",
       "      <td>3.75</td>\n",
       "      <td>5</td>\n",
       "      <td>3</td>\n",
       "      <td>0</td>\n",
       "      <td>0</td>\n",
       "      <td>1</td>\n",
       "      <td>0</td>\n",
       "      <td>0</td>\n",
       "      <td>0</td>\n",
       "      <td>...</td>\n",
       "      <td>0</td>\n",
       "      <td>0</td>\n",
       "      <td>0</td>\n",
       "      <td>0</td>\n",
       "      <td>0</td>\n",
       "      <td>0</td>\n",
       "      <td>0</td>\n",
       "      <td>0</td>\n",
       "      <td>1</td>\n",
       "      <td>0</td>\n",
       "    </tr>\n",
       "    <tr>\n",
       "      <th>4</th>\n",
       "      <td>5.625</td>\n",
       "      <td>1.71</td>\n",
       "      <td>0</td>\n",
       "      <td>0</td>\n",
       "      <td>0</td>\n",
       "      <td>0</td>\n",
       "      <td>1</td>\n",
       "      <td>0</td>\n",
       "      <td>0</td>\n",
       "      <td>0</td>\n",
       "      <td>...</td>\n",
       "      <td>0</td>\n",
       "      <td>0</td>\n",
       "      <td>0</td>\n",
       "      <td>0</td>\n",
       "      <td>0</td>\n",
       "      <td>0</td>\n",
       "      <td>0</td>\n",
       "      <td>0</td>\n",
       "      <td>1</td>\n",
       "      <td>0</td>\n",
       "    </tr>\n",
       "  </tbody>\n",
       "</table>\n",
       "<p>5 rows × 572 columns</p>\n",
       "</div>"
      ],
      "text/plain": [
       "      A3    A8  A11  A15  A1_?  A1_a  A1_b  A2_13.75  A2_15.17  A2_15.75  \\\n",
       "0  0.000  1.25    1    0     0     0     1         0         0         0   \n",
       "1  4.460  3.04    6  560     0     1     0         0         0         0   \n",
       "2  0.500  1.50    0  824     0     1     0         0         0         0   \n",
       "3  1.540  3.75    5    3     0     0     1         0         0         0   \n",
       "4  5.625  1.71    0    0     0     0     1         0         0         0   \n",
       "\n",
       "   ...    A14_00720  A14_00760  A14_00840  A14_00928  A14_00980  A14_01160  \\\n",
       "0  ...            0          0          0          0          0          0   \n",
       "1  ...            0          0          0          0          0          0   \n",
       "2  ...            0          0          0          0          0          0   \n",
       "3  ...            0          0          0          0          0          0   \n",
       "4  ...            0          0          0          0          0          0   \n",
       "\n",
       "   A14_02000  A14_?  A16_+  A16_-  \n",
       "0          0      0      1      0  \n",
       "1          0      0      1      0  \n",
       "2          0      0      1      0  \n",
       "3          0      0      1      0  \n",
       "4          0      0      1      0  \n",
       "\n",
       "[5 rows x 572 columns]"
      ]
     },
     "execution_count": 4,
     "metadata": {},
     "output_type": "execute_result"
    }
   ],
   "source": [
    "dataDummie = pd.get_dummies(data)\n",
    "dataDummie.head()"
   ]
  },
  {
   "cell_type": "markdown",
   "metadata": {},
   "source": [
    "Como se puede observar hemos pasado de 16 columnas (variables) a 572. ¿A qué se debe esto? Si comprobamos el tipo de los datos que tenemos podemos ver que algunos que deberían ser de tipo númerico aparecen como object (string)."
   ]
  },
  {
   "cell_type": "code",
   "execution_count": 5,
   "metadata": {},
   "outputs": [
    {
     "data": {
      "text/plain": [
       "A1      object:dense\n",
       "A2      object:dense\n",
       "A3     float64:dense\n",
       "A4      object:dense\n",
       "A5      object:dense\n",
       "A6      object:dense\n",
       "A7      object:dense\n",
       "A8     float64:dense\n",
       "A9      object:dense\n",
       "A10     object:dense\n",
       "A11      int64:dense\n",
       "A12     object:dense\n",
       "A13     object:dense\n",
       "A14     object:dense\n",
       "A15      int64:dense\n",
       "A16     object:dense\n",
       "dtype: object"
      ]
     },
     "execution_count": 5,
     "metadata": {},
     "output_type": "execute_result"
    }
   ],
   "source": [
    "data.ftypes"
   ]
  },
  {
   "cell_type": "markdown",
   "metadata": {},
   "source": [
    "Este problema genera a su vez otro: Los datos numéricos que son tomados como strings hacen que el One Hot Encoding genere una nueva variable por cada número diferente que se encuentra en la variable inicial.  \n",
    "\n",
    "Empezaremos por convertir la última variable (A16), que representa los créditos aprobados con un '+' y los denegados con un '-', en un valor binario 1 en caso de que esté aprobado y 0 en caso contrario."
   ]
  },
  {
   "cell_type": "code",
   "execution_count": 6,
   "metadata": {},
   "outputs": [],
   "source": [
    "data.A16 = [1 if d=='+' else 0 for d in data['A16']]"
   ]
  },
  {
   "cell_type": "markdown",
   "metadata": {},
   "source": [
    "Sin embargo hay otras variables que deberían ser numéricas y aparecen como un string. Esto nos lleva a otra pregunta. ¿Por que se leen como string? La respuesta es sencilla: Las variables desaparecidas.\n",
    "El conjunto de datos no está completo, algunos casos no tienen datos para una o varias de sus variables, y para representar estos valores desconocidos se usa un '?'. Esto hace que en la lectura se detecte la columna como un string."
   ]
  },
  {
   "cell_type": "markdown",
   "metadata": {},
   "source": [
    "Utilizando el paquete https://github.com/ResidentMario/missingno podemos mostrar la distribución de las variables desaparecidas. Para ello es necesario que antes sustituyamos los '?' por el valor 'NaN'."
   ]
  },
  {
   "cell_type": "code",
   "execution_count": 7,
   "metadata": {},
   "outputs": [
    {
     "name": "stdout",
     "output_type": "stream",
     "text": [
      "A1     12\n",
      "A2     12\n",
      "A3      0\n",
      "A4      6\n",
      "A5      6\n",
      "A6      9\n",
      "A7      9\n",
      "A8      0\n",
      "A9      0\n",
      "A10     0\n",
      "A11     0\n",
      "A12     0\n",
      "A13     0\n",
      "A14    13\n",
      "A15     0\n",
      "A16     0\n",
      "dtype: int64\n"
     ]
    },
    {
     "data": {
      "text/plain": [
       "<matplotlib.axes._subplots.AxesSubplot at 0x21823635978>"
      ]
     },
     "execution_count": 7,
     "metadata": {},
     "output_type": "execute_result"
    },
    {
     "data": {
      "image/png": "[encoded data removed]",
      "text/plain": [
       "<Figure size 1800x720 with 2 Axes>"
      ]
     },
     "metadata": {},
     "output_type": "display_data"
    }
   ],
   "source": [
    "import missingno.missingno as msno\n",
    "d1 = data.replace('?', np.nan)\n",
    "print(d1.isnull().sum())\n",
    "msno.matrix(d1)"
   ]
  },
  {
   "cell_type": "markdown",
   "metadata": {},
   "source": [
    "Como se puede ver los datos desconocidos solo se encuentran en las variables *A1, A2, A4, A5, A6, A7 y A14* y en algunos casos no contamos con ningún dato entre *A4* y *A7*.\n",
    "Esto hace que sea muy difícil utilizar estos casos para el entrenamiento. Una opción sería descartar estos casos (en especial aquellos con demasiadas variables desaparecidas), sin embargo en Machine Learning es importante disponer de la mayor cantidad de datos posible y en nuestro caso contamos con un número muy reducido (690 casos), por lo que usaremos otros métodos para aprovechar los datos de los casos con variables desaparecidas."
   ]
  },
  {
   "cell_type": "markdown",
   "metadata": {},
   "source": [
    "## SUSTITUCIÓN DE LAS VARIABLES DESAPARECIDAS"
   ]
  },
  {
   "cell_type": "markdown",
   "metadata": {},
   "source": [
    "Aquí habría que realizar un análsis de los datos númericos, con gráficas a ser posible\n",
    "y comprobar si hay anomalias, en caso de que las haya habría que sustituir por la mediana,\n",
    "en caso contrario, por la media.  \n",
    "Las variables categoricas habría que sustituirlas por el valor más repetido (moda).  "
   ]
  },
  {
   "cell_type": "markdown",
   "metadata": {},
   "source": [
    "Para poder utilizar los casos con variables desaparecidas utilizaremos distintos métodos y los analizaremos para quedarnos con el que nos ofrezca mejor rendimiento."
   ]
  },
  {
   "cell_type": "markdown",
   "metadata": {},
   "source": [
    "### VARIABLES NUMÉRICAS"
   ]
  },
  {
   "cell_type": "markdown",
   "metadata": {},
   "source": [
    "Comezamos analizando los datos de las variables numéricas con datos incompletos, es decir, la columna A2 y A14. Con esto podremos observar su comportamiento para así saber la mejor forma de tratar a las variables desaparecidas."
   ]
  },
  {
   "cell_type": "code",
   "execution_count": 8,
   "metadata": {},
   "outputs": [
    {
     "name": "stdout",
     "output_type": "stream",
     "text": [
      "Media A2: 31.50381316998472\n",
      "Mediana A2: 28.42\n"
     ]
    },
    {
     "data": {
      "image/png": "[encoded data removed]",
      "text/plain": [
       "<Figure size 432x288 with 1 Axes>"
      ]
     },
     "metadata": {},
     "output_type": "display_data"
    }
   ],
   "source": [
    "#Eliminamos los casos con variables desaparecidas\n",
    "d2 = d1.dropna().copy()\n",
    "\n",
    "#Cambiamos el tipo de A2 a numérico. Pasa a float o int según los datos almacenados.\n",
    "#Si hay un string salta un error.\n",
    "d2.loc[:,('A2')] = pd.to_numeric(d2.A2)\n",
    "\n",
    "#Graficamos los datos\n",
    "plt.figure()\n",
    "plt.scatter(np.arange(0,len(d2)), d2.A2, marker='.', c='k')\n",
    "\n",
    "print('Media A2: '+str(d2.A2.mean()))\n",
    "print('Mediana A2: '+str(d2.A2.median()))"
   ]
  },
  {
   "cell_type": "markdown",
   "metadata": {},
   "source": [
    "En este caso, puesto que no hay muchas anomalías en los datos, es más recomendable que sustituyamos las variables desaparecidas por la media de estos."
   ]
  },
  {
   "cell_type": "code",
   "execution_count": 9,
   "metadata": {},
   "outputs": [
    {
     "name": "stdout",
     "output_type": "stream",
     "text": [
      "Media A14: 180.35987748851454\n",
      "Mediana A14: 160.0\n"
     ]
    },
    {
     "data": {
      "image/png": "[encoded data removed]",
      "text/plain": [
       "<Figure size 432x288 with 1 Axes>"
      ]
     },
     "metadata": {},
     "output_type": "display_data"
    }
   ],
   "source": [
    "#Cambiamos el tipo de A14 a numérico.\n",
    "d2.loc[:,('A14')] = pd.to_numeric(d2.A14)\n",
    "\n",
    "plt.figure()\n",
    "plt.scatter(np.arange(0,len(d2)), d2.A14, marker='.', c='k')\n",
    "\n",
    "print('Media A14: '+str(d2.A14.mean()))\n",
    "print('Mediana A14: '+str(d2.A14.median()))"
   ]
  },
  {
   "cell_type": "markdown",
   "metadata": {},
   "source": [
    "Sin embargo, en este caso, es menos recomendable que sustituyamos con la media puesto que hay ciertas anomalías en los datos llegando alguno de ellos incluso a 1000 ó 2000 en el eje de las *y*, cuando la mayoría de estos tienen unos valores mucho más bajos.\n",
    "\n",
    "Comprobamos como han cambiado los datos si sustituimos A2 con la media:"
   ]
  },
  {
   "cell_type": "code",
   "execution_count": 10,
   "metadata": {},
   "outputs": [
    {
     "name": "stdout",
     "output_type": "stream",
     "text": [
      "Reemplazando los valores desaparecidos con la media:\n",
      "Media A2: 31.567051823246135\n",
      "Mediana A2: 28.625\n",
      "\n",
      "Diferencia entre las medias A2: 0.06323865326141487\n",
      "Diferencia entre las medianas A2: 0.2049999999999983\n"
     ]
    },
    {
     "data": {
      "image/png": "[encoded data removed]",
      "text/plain": [
       "<Figure size 432x288 with 1 Axes>"
      ]
     },
     "metadata": {},
     "output_type": "display_data"
    }
   ],
   "source": [
    "d3 = d1.copy()\n",
    "d3.A2 = d3.A2.replace(np.nan, d2.A2.mean())\n",
    "d3.A2 = pd.to_numeric(d3.A2)\n",
    "\n",
    "plt.figure()\n",
    "plt.scatter(np.arange(0,len(d3)), d3.A2, marker='.', c='k')\n",
    "\n",
    "print('Reemplazando los valores desaparecidos con la media:')\n",
    "print('Media A2: '+str(d3.A2.mean()))\n",
    "print('Mediana A2: '+str(d3.A2.median()))\n",
    "\n",
    "print('\\nDiferencia entre las medias A2: '+ str(d3.A2.mean() - d2.A2.mean()))\n",
    "print('Diferencia entre las medianas A2: '+str(d3.A2.median() - d2.A2.median()))"
   ]
  },
  {
   "cell_type": "markdown",
   "metadata": {},
   "source": [
    "Comprobamos como han cambiado los datos si sustituimos ahora A14 por la mediana:"
   ]
  },
  {
   "cell_type": "code",
   "execution_count": 11,
   "metadata": {},
   "outputs": [
    {
     "name": "stdout",
     "output_type": "stream",
     "text": [
      "Reemplazando los valores desaparecidos con la mediana:\n",
      "Media A14: 183.5623188405797\n",
      "Mediana A14: 160.0\n",
      "\n",
      "Diferencia entre las medias A2: 3.202441352065165\n",
      "Diferencia entre las medianas A2: 0.0\n"
     ]
    },
    {
     "data": {
      "image/png": "[encoded data removed]",
      "text/plain": [
       "<Figure size 432x288 with 1 Axes>"
      ]
     },
     "metadata": {},
     "output_type": "display_data"
    }
   ],
   "source": [
    "d3.A14 = d3.A14.replace(np.nan, d2.A14.median())\n",
    "d3.A14 = pd.to_numeric(d3.A14)\n",
    "\n",
    "plt.figure()\n",
    "plt.scatter(np.arange(0,len(d3)), d3.A14, marker='.', c='k')\n",
    "\n",
    "print('Reemplazando los valores desaparecidos con la mediana:')\n",
    "print('Media A14: '+str(d3.A14.mean()))\n",
    "print('Mediana A14: '+str(d3.A14.median()))\n",
    "\n",
    "print('\\nDiferencia entre las medias A2: '+ str(d3.A14.mean() - d2.A14.mean()))\n",
    "print('Diferencia entre las medianas A2: '+str(d3.A14.median() - d2.A14.median()))"
   ]
  },
  {
   "cell_type": "markdown",
   "metadata": {},
   "source": [
    "### VARIABLES CATEGÓRICAS"
   ]
  },
  {
   "cell_type": "markdown",
   "metadata": {},
   "source": [
    "Seguimos analizando los datos de las variables categóricas con datos incompletos, es decir, las características A1, A4, A5, A6 y A7. \n",
    "\n",
    "La sustitución de estos datos podríamos realizarla de dos maneras: La primera y más lógica sería sustituir los valores desaparecidos por la moda, es decir, el valor que se repita con mayor frecuencia en cada columna. Esto puede ser contraproducente dependiendo de cuántos valores desaparecidos tenga la columna. Si tiene muchos, podríamos realizarla de una segunda manera, basada en crear una nueva clase para estos valores que faltan. Esta estrategia agregará más información al conjunto de datos, lo que dará como resultado un cambio de varianza posterior, cuando tengamos que entrenar nuestro sistema.\n",
    "Por lo tanto, tenemos que ver que caso nos conviene más para cada característica:"
   ]
  },
  {
   "cell_type": "code",
   "execution_count": 12,
   "metadata": {},
   "outputs": [
    {
     "name": "stdout",
     "output_type": "stream",
     "text": [
      "A1\n"
     ]
    },
    {
     "data": {
      "text/plain": [
       "b    468\n",
       "a    210\n",
       "?     12\n",
       "Name: A1, dtype: int64"
      ]
     },
     "execution_count": 12,
     "metadata": {},
     "output_type": "execute_result"
    }
   ],
   "source": [
    "print('A1')\n",
    "data['A1'].value_counts()"
   ]
  },
  {
   "cell_type": "code",
   "execution_count": 13,
   "metadata": {},
   "outputs": [
    {
     "name": "stdout",
     "output_type": "stream",
     "text": [
      "A4\n"
     ]
    },
    {
     "data": {
      "text/plain": [
       "u    519\n",
       "y    163\n",
       "?      6\n",
       "l      2\n",
       "Name: A4, dtype: int64"
      ]
     },
     "execution_count": 13,
     "metadata": {},
     "output_type": "execute_result"
    }
   ],
   "source": [
    "print('A4')\n",
    "data['A4'].value_counts()"
   ]
  },
  {
   "cell_type": "code",
   "execution_count": 14,
   "metadata": {},
   "outputs": [
    {
     "name": "stdout",
     "output_type": "stream",
     "text": [
      "A5\n"
     ]
    },
    {
     "data": {
      "text/plain": [
       "g     519\n",
       "p     163\n",
       "?       6\n",
       "gg      2\n",
       "Name: A5, dtype: int64"
      ]
     },
     "execution_count": 14,
     "metadata": {},
     "output_type": "execute_result"
    }
   ],
   "source": [
    "print('A5')\n",
    "data['A5'].value_counts()"
   ]
  },
  {
   "cell_type": "code",
   "execution_count": 15,
   "metadata": {},
   "outputs": [
    {
     "name": "stdout",
     "output_type": "stream",
     "text": [
      "A6\n"
     ]
    },
    {
     "data": {
      "text/plain": [
       "c     137\n",
       "q      78\n",
       "w      64\n",
       "i      59\n",
       "aa     54\n",
       "ff     53\n",
       "k      51\n",
       "cc     41\n",
       "m      38\n",
       "x      38\n",
       "d      30\n",
       "e      25\n",
       "j      10\n",
       "?       9\n",
       "r       3\n",
       "Name: A6, dtype: int64"
      ]
     },
     "execution_count": 15,
     "metadata": {},
     "output_type": "execute_result"
    }
   ],
   "source": [
    "print('A6')\n",
    "data['A6'].value_counts()"
   ]
  },
  {
   "cell_type": "code",
   "execution_count": 16,
   "metadata": {},
   "outputs": [
    {
     "name": "stdout",
     "output_type": "stream",
     "text": [
      "A7\n"
     ]
    },
    {
     "data": {
      "text/plain": [
       "v     399\n",
       "h     138\n",
       "bb     59\n",
       "ff     57\n",
       "?       9\n",
       "z       8\n",
       "j       8\n",
       "dd      6\n",
       "n       4\n",
       "o       2\n",
       "Name: A7, dtype: int64"
      ]
     },
     "execution_count": 16,
     "metadata": {},
     "output_type": "execute_result"
    }
   ],
   "source": [
    "print('A7')\n",
    "data['A7'].value_counts()"
   ]
  },
  {
   "cell_type": "markdown",
   "metadata": {},
   "source": [
    "Dado que el número de variables desaparecidas está alrededor de las 6-12, y el número de variables más frecuentes para cada característica sobrepasa en la mayoría de los casos los 400, se va a optar por sustiuir todas estas con la moda, es decir, el valor más frecuente para cada característica."
   ]
  },
  {
   "cell_type": "code",
   "execution_count": 17,
   "metadata": {},
   "outputs": [],
   "source": [
    "d3.A1 = d1.replace(np.nan, d2.A1.mode())\n",
    "d3.A4 = d1.replace(np.nan, d2.A4.mode())\n",
    "d3.A5 = d1.replace(np.nan, d2.A5.mode())\n",
    "d3.A6 = d1.replace(np.nan, d2.A6.mode())\n",
    "d3.A7 = d1.replace(np.nan, d2.A7.mode())"
   ]
  },
  {
   "cell_type": "markdown",
   "metadata": {},
   "source": [
    "Por tanto, una vez hemos remplazado estos valores, volvemos a mostrar como quedaría nuestro conjunto de datos:"
   ]
  },
  {
   "cell_type": "code",
   "execution_count": 18,
   "metadata": {},
   "outputs": [
    {
     "data": {
      "text/html": [
       "<div>\n",
       "<style scoped>\n",
       "    .dataframe tbody tr th:only-of-type {\n",
       "        vertical-align: middle;\n",
       "    }\n",
       "\n",
       "    .dataframe tbody tr th {\n",
       "        vertical-align: top;\n",
       "    }\n",
       "\n",
       "    .dataframe thead th {\n",
       "        text-align: right;\n",
       "    }\n",
       "</style>\n",
       "<table border=\"1\" class=\"dataframe\">\n",
       "  <thead>\n",
       "    <tr style=\"text-align: right;\">\n",
       "      <th></th>\n",
       "      <th>A2</th>\n",
       "      <th>A3</th>\n",
       "      <th>A8</th>\n",
       "      <th>A11</th>\n",
       "      <th>A14</th>\n",
       "      <th>A15</th>\n",
       "      <th>A16</th>\n",
       "      <th>A1_a</th>\n",
       "      <th>A1_b</th>\n",
       "      <th>A4_a</th>\n",
       "      <th>...</th>\n",
       "      <th>A7_b</th>\n",
       "      <th>A9_f</th>\n",
       "      <th>A9_t</th>\n",
       "      <th>A10_f</th>\n",
       "      <th>A10_t</th>\n",
       "      <th>A12_f</th>\n",
       "      <th>A12_t</th>\n",
       "      <th>A13_g</th>\n",
       "      <th>A13_p</th>\n",
       "      <th>A13_s</th>\n",
       "    </tr>\n",
       "  </thead>\n",
       "  <tbody>\n",
       "    <tr>\n",
       "      <th>0</th>\n",
       "      <td>30.83</td>\n",
       "      <td>0.000</td>\n",
       "      <td>1.25</td>\n",
       "      <td>1</td>\n",
       "      <td>202.0</td>\n",
       "      <td>0</td>\n",
       "      <td>1</td>\n",
       "      <td>0</td>\n",
       "      <td>1</td>\n",
       "      <td>0</td>\n",
       "      <td>...</td>\n",
       "      <td>1</td>\n",
       "      <td>0</td>\n",
       "      <td>1</td>\n",
       "      <td>0</td>\n",
       "      <td>1</td>\n",
       "      <td>1</td>\n",
       "      <td>0</td>\n",
       "      <td>1</td>\n",
       "      <td>0</td>\n",
       "      <td>0</td>\n",
       "    </tr>\n",
       "    <tr>\n",
       "      <th>1</th>\n",
       "      <td>58.67</td>\n",
       "      <td>4.460</td>\n",
       "      <td>3.04</td>\n",
       "      <td>6</td>\n",
       "      <td>43.0</td>\n",
       "      <td>560</td>\n",
       "      <td>1</td>\n",
       "      <td>1</td>\n",
       "      <td>0</td>\n",
       "      <td>1</td>\n",
       "      <td>...</td>\n",
       "      <td>0</td>\n",
       "      <td>0</td>\n",
       "      <td>1</td>\n",
       "      <td>0</td>\n",
       "      <td>1</td>\n",
       "      <td>1</td>\n",
       "      <td>0</td>\n",
       "      <td>1</td>\n",
       "      <td>0</td>\n",
       "      <td>0</td>\n",
       "    </tr>\n",
       "    <tr>\n",
       "      <th>2</th>\n",
       "      <td>24.50</td>\n",
       "      <td>0.500</td>\n",
       "      <td>1.50</td>\n",
       "      <td>0</td>\n",
       "      <td>280.0</td>\n",
       "      <td>824</td>\n",
       "      <td>1</td>\n",
       "      <td>1</td>\n",
       "      <td>0</td>\n",
       "      <td>1</td>\n",
       "      <td>...</td>\n",
       "      <td>0</td>\n",
       "      <td>0</td>\n",
       "      <td>1</td>\n",
       "      <td>1</td>\n",
       "      <td>0</td>\n",
       "      <td>1</td>\n",
       "      <td>0</td>\n",
       "      <td>1</td>\n",
       "      <td>0</td>\n",
       "      <td>0</td>\n",
       "    </tr>\n",
       "    <tr>\n",
       "      <th>3</th>\n",
       "      <td>27.83</td>\n",
       "      <td>1.540</td>\n",
       "      <td>3.75</td>\n",
       "      <td>5</td>\n",
       "      <td>100.0</td>\n",
       "      <td>3</td>\n",
       "      <td>1</td>\n",
       "      <td>0</td>\n",
       "      <td>1</td>\n",
       "      <td>0</td>\n",
       "      <td>...</td>\n",
       "      <td>1</td>\n",
       "      <td>0</td>\n",
       "      <td>1</td>\n",
       "      <td>0</td>\n",
       "      <td>1</td>\n",
       "      <td>0</td>\n",
       "      <td>1</td>\n",
       "      <td>1</td>\n",
       "      <td>0</td>\n",
       "      <td>0</td>\n",
       "    </tr>\n",
       "    <tr>\n",
       "      <th>4</th>\n",
       "      <td>20.17</td>\n",
       "      <td>5.625</td>\n",
       "      <td>1.71</td>\n",
       "      <td>0</td>\n",
       "      <td>120.0</td>\n",
       "      <td>0</td>\n",
       "      <td>1</td>\n",
       "      <td>0</td>\n",
       "      <td>1</td>\n",
       "      <td>0</td>\n",
       "      <td>...</td>\n",
       "      <td>1</td>\n",
       "      <td>0</td>\n",
       "      <td>1</td>\n",
       "      <td>1</td>\n",
       "      <td>0</td>\n",
       "      <td>1</td>\n",
       "      <td>0</td>\n",
       "      <td>0</td>\n",
       "      <td>0</td>\n",
       "      <td>1</td>\n",
       "    </tr>\n",
       "  </tbody>\n",
       "</table>\n",
       "<p>5 rows × 26 columns</p>\n",
       "</div>"
      ],
      "text/plain": [
       "      A2     A3    A8  A11    A14  A15  A16  A1_a  A1_b  A4_a  ...    A7_b  \\\n",
       "0  30.83  0.000  1.25    1  202.0    0    1     0     1     0  ...       1   \n",
       "1  58.67  4.460  3.04    6   43.0  560    1     1     0     1  ...       0   \n",
       "2  24.50  0.500  1.50    0  280.0  824    1     1     0     1  ...       0   \n",
       "3  27.83  1.540  3.75    5  100.0    3    1     0     1     0  ...       1   \n",
       "4  20.17  5.625  1.71    0  120.0    0    1     0     1     0  ...       1   \n",
       "\n",
       "   A9_f  A9_t  A10_f  A10_t  A12_f  A12_t  A13_g  A13_p  A13_s  \n",
       "0     0     1      0      1      1      0      1      0      0  \n",
       "1     0     1      0      1      1      0      1      0      0  \n",
       "2     0     1      1      0      1      0      1      0      0  \n",
       "3     0     1      0      1      0      1      1      0      0  \n",
       "4     0     1      1      0      1      0      0      0      1  \n",
       "\n",
       "[5 rows x 26 columns]"
      ]
     },
     "execution_count": 18,
     "metadata": {},
     "output_type": "execute_result"
    }
   ],
   "source": [
    "d4 = pd.get_dummies(d3)\n",
    "d4.head()"
   ]
  },
  {
   "cell_type": "markdown",
   "metadata": {},
   "source": [
    "Cuyas columnas son las siguientes:"
   ]
  },
  {
   "cell_type": "code",
   "execution_count": 19,
   "metadata": {},
   "outputs": [
    {
     "data": {
      "text/plain": [
       "Index(['A2', 'A3', 'A8', 'A11', 'A14', 'A15', 'A16', 'A1_a', 'A1_b', 'A4_a',\n",
       "       'A4_b', 'A5_a', 'A5_b', 'A6_a', 'A6_b', 'A7_a', 'A7_b', 'A9_f', 'A9_t',\n",
       "       'A10_f', 'A10_t', 'A12_f', 'A12_t', 'A13_g', 'A13_p', 'A13_s'],\n",
       "      dtype='object')"
      ]
     },
     "execution_count": 19,
     "metadata": {},
     "output_type": "execute_result"
    }
   ],
   "source": [
    "d4.columns"
   ]
  },
  {
   "cell_type": "markdown",
   "metadata": {},
   "source": [
    "### COMPROBANDO LA FIABILIDAD DE LOS DATOS"
   ]
  },
  {
   "cell_type": "markdown",
   "metadata": {},
   "source": [
    "Para asegurarnos de que esta configuración de nuestros datos nos ofrece un buen rendimiento, vamos a realizar un primer entrenamiento con el modelo de *Regresión Logística*, pues ofrece un rendimiento medio y es el más rápido lo que nos permitirá realizar más pruebas. \n",
    "\n",
    "Por tanto, comenzamos con este modelo de entrenamiento:"
   ]
  },
  {
   "cell_type": "code",
   "execution_count": 20,
   "metadata": {},
   "outputs": [],
   "source": [
    "from sklearn.model_selection import train_test_split as tts"
   ]
  },
  {
   "cell_type": "markdown",
   "metadata": {},
   "source": [
    "Importamos la función *train_test_split*, de *sklearn*, que nos va a permitir separar nuestro conjunto de datos en dos: Uno para entrenar y otro para validar. Con este último mediremos el error de predicción que ofrece nuestro modelo."
   ]
  },
  {
   "cell_type": "code",
   "execution_count": 21,
   "metadata": {},
   "outputs": [],
   "source": [
    "x = d4.values[:, d4.columns!='A16']\n",
    "y = d4['A16'].values"
   ]
  },
  {
   "cell_type": "markdown",
   "metadata": {},
   "source": [
    "Dividiremos los datos en un 80% (552) de entrenamiento y un 20% (138) de validación pues nuestro conjunto de datos es pequeño y es necesario conservar la mayor cantidad de datos posible para el entrenamiento. Usamos un 20% en lugar de un 10% debido a que el 10% (69 casos) es una cantidad demasiado pequeña para que los porcentajes sean fiables (un caso más o menos clasificado correctamente hace variar el porcentaje total en 1.5%).\n",
    "\n",
    "Además, la división debe de ser aleatoria, pues algunos casos pueden entrenar mejor que otros, y seleccionar arbitrariamente los casos podría dar lugar a un resultado que no es realista."
   ]
  },
  {
   "cell_type": "code",
   "execution_count": 22,
   "metadata": {},
   "outputs": [
    {
     "data": {
      "text/plain": [
       "41.30434782608695"
      ]
     },
     "execution_count": 22,
     "metadata": {},
     "output_type": "execute_result"
    }
   ],
   "source": [
    "xTrain, xVal, yTrain, yVal = tts(x, y, test_size=0.2)\n",
    "\n",
    "#Porcentaje de casos de validación positivos respecto de los negativos\n",
    "np.sum(yVal)*100/len(yVal)"
   ]
  },
  {
   "cell_type": "markdown",
   "metadata": {},
   "source": [
    "Pasamos entonces a entrenar nuestro modelo. Para ello definimos las funciones que utilizará la regresión lineal. Estas funciones se explicarán en el apartado correspondiente de *Regresión Logística*.\n",
    "<a id='def_fun'></a>"
   ]
  },
  {
   "cell_type": "code",
   "execution_count": 23,
   "metadata": {},
   "outputs": [],
   "source": [
    "g = lambda z: 1 / (1 + np.e**-z)\n",
    "\n",
    "def safe_ln(x, minval=0.0000000001):\n",
    "    return np.log(x.clip(min=minval))\n",
    "\n",
    "def gradient(theta, x, y, lamb):\n",
    "    grad = 1/len(x) * (x.T).dot(g(x.dot(theta)) - y)\n",
    "    grad[1:] += (lamb/len(x))*theta[1:]\n",
    "    return grad\n",
    "\n",
    "def funCoste(theta, x, y, lamb):\n",
    "    return -1/len(x) * (((safe_ln( g(x.dot(theta)) )).T).dot(y) +\n",
    "                        ((safe_ln( 1 - g(x.dot(theta)) )).T).dot(1-y) +\n",
    "                        (lamb/(2*len(x))*(np.sum(theta[1:]))**2))\n",
    "\n",
    "def normalizar(x) :\n",
    "    mu = np.mean(x,0)\n",
    "    s = np.std(x,0)\n",
    "    \n",
    "    x = (x-mu)/s\n",
    "    \n",
    "    return (x, mu, s)"
   ]
  },
  {
   "cell_type": "markdown",
   "metadata": {},
   "source": [
    "Definimos una función que entrene a partir de unos datos dados y nos devuelva el porcentaje de acierto de la validación, también haremos que devuelva el porcentaje de acierto sobre los propios casos de entrenamiento, que nos permitirá ver si existe sobreajuste. "
   ]
  },
  {
   "cell_type": "code",
   "execution_count": 24,
   "metadata": {},
   "outputs": [],
   "source": [
    "def trainRegresion(x, y, xVal, yVal, lamb) :\n",
    "    theta = np.zeros((x.shape[1]))\n",
    "\n",
    "    result = opt.fmin_tnc(func=funCoste, x0=theta, fprime=gradient, args=(x, y, lamb))\n",
    "    thetaOpts = result[0]\n",
    "\n",
    "    yResult = [1 if i >= 0.5 else 0 for i in g(xVal.dot(thetaOpts))]\n",
    "    valP = (yVal==yResult).sum()/len(yVal)\n",
    "    \n",
    "    yResult = [1 if i >= 0.5 else 0 for i in g(x.dot(thetaOpts))]\n",
    "    trainP = (y==yResult).sum()/len(y)\n",
    "    \n",
    "    return(valP * 100, trainP * 100)"
   ]
  },
  {
   "cell_type": "code",
   "execution_count": 25,
   "metadata": {},
   "outputs": [
    {
     "data": {
      "text/plain": [
       "(89.85507246376811, 84.60144927536231)"
      ]
     },
     "execution_count": 25,
     "metadata": {},
     "output_type": "execute_result"
    }
   ],
   "source": [
    "trainRegresion(xTrain, yTrain, xVal, yVal, 0)"
   ]
  },
  {
   "cell_type": "markdown",
   "metadata": {},
   "source": [
    "Estos porcentajes variarán según la división de los datos, pero siempre rondará el 85% tanto en la validación como en el entrenamiento. También se puede comprobar realizando la media de multiples entrenamientos."
   ]
  },
  {
   "cell_type": "code",
   "execution_count": 26,
   "metadata": {},
   "outputs": [],
   "source": [
    "def meanTrainRegresion(x, y, lamb, iteraciones) : \n",
    "    train = []\n",
    "    val = []\n",
    "    \n",
    "    for i in range(0, iteraciones) :\n",
    "        xTrain, xVal, yTrain, yVal = tts(x, y, test_size=0.2)\n",
    "        \n",
    "        result = trainRegresion(xTrain, yTrain, xVal, yVal, lamb)\n",
    "        \n",
    "        val.append(result[0]) \n",
    "        train.append(result[1])\n",
    "        \n",
    "    return (np.mean(val), np.mean(train))"
   ]
  },
  {
   "cell_type": "code",
   "execution_count": 27,
   "metadata": {},
   "outputs": [
    {
     "data": {
      "text/plain": [
       "(84.96666666666665, 86.29239130434783)"
      ]
     },
     "execution_count": 27,
     "metadata": {},
     "output_type": "execute_result"
    }
   ],
   "source": [
    "meanTrainRegresion(x, y, 0, 500)"
   ]
  },
  {
   "cell_type": "markdown",
   "metadata": {},
   "source": [
    "De este modo podemos observar que el modelo acierta casi el 85% de los casos de validación y algo más del 86% de los casos de entrenamiento. Estas cifras podrían considerarse aceptables para considerar que la clasificación es correcta, sin embargo intentaremos ajustar el modelo buscando unos mejores porcentajes. \n",
    "\n",
    "Ese 86% de casos de entrenamiento clasificados correctamente nos indica que podría haber un pequeño *underfitting*, es decir, que el modelo no se ajusta del todo a los casos de entrenamiento. Nunca es deseable que ese porcentaje sea del 100% (y en muchos casos es practicamente imposible) pues eso nos llevaría a un problema de *overfitting*, pero intentaremos aplicar medidas contra el *underfitting* para comprobar si los porcentajes mejoran.\n",
    "\n",
    "Crearemos una función que nos permita ver las curvas de aprendizaje para analizar la bias y la varianza, a esta función le agregaremos un parámetro que nos permita seleccionar el tramo a mostrar para facilitar el análisis:"
   ]
  },
  {
   "cell_type": "code",
   "execution_count": 28,
   "metadata": {},
   "outputs": [],
   "source": [
    "def curvaAprendizaje(x, y, xval, yval, lamb, ret, intervalo=slice(None)):\n",
    "    trainError = np.zeros((len(x), 1))\n",
    "    validationError = np.zeros((len(x), 1))\n",
    "    \n",
    "    for i in range(1, len(x) + 1):\n",
    "        \n",
    "        theta = np.ones((x.shape[1]))\n",
    "        norm = normalizar(x)\n",
    "        x = norm[0]\n",
    "        result = opt.fmin_tnc(func=funCoste, x0=theta, fprime=gradient, args=(x[0:i], y[0:i], lamb))\n",
    "        thetaOpts = result[0]\n",
    "  \n",
    "        trainError[i-1] = funCoste(thetaOpts, x[0:i], y[0:i], lamb)\n",
    " \n",
    "        xval = (xval-norm[1])/norm[2]\n",
    "        validationError[i-1] = funCoste(thetaOpts, xval, yval, lamb)\n",
    "        \n",
    "    plt.plot(np.arange(1, len(xTrain[intervalo]) + 1), trainError[intervalo], 'b', label = 'Entrenamiento')\n",
    "    plt.plot(np.arange(1, len(xTrain[intervalo]) + 1), validationError[intervalo], 'r', label = 'Validación')\n",
    "    plt.xlabel('Número de ejemplos de entrenamiento')\n",
    "    plt.ylabel('Error')\n",
    "    plt.legend(loc=0)\n",
    "    \n",
    "    if(ret != 0): return (trainError, validationError)\n",
    "    else: return"
   ]
  },
  {
   "cell_type": "code",
   "execution_count": 29,
   "metadata": {
    "scrolled": true
   },
   "outputs": [
    {
     "data": {
      "image/png": "[encoded data removed]",
      "text/plain": [
       "<Figure size 432x288 with 1 Axes>"
      ]
     },
     "metadata": {},
     "output_type": "display_data"
    }
   ],
   "source": [
    "#Salta overflow, pero según he mirado se puede ignorar porque \n",
    "#numpy se encarga del overflow haciendo las aproximaciones que necesite\n",
    "#se pueden ignorar con\n",
    "np.seterr(over='ignore')\n",
    "tError, valError = curvaAprendizaje(xTrain, yTrain, xVal, yVal, 0, 1)"
   ]
  },
  {
   "cell_type": "code",
   "execution_count": 30,
   "metadata": {},
   "outputs": [
    {
     "data": {
      "text/plain": [
       "50"
      ]
     },
     "execution_count": 30,
     "metadata": {},
     "output_type": "execute_result"
    }
   ],
   "source": [
    "a = (valError - tError)\n",
    "valor = np.argmin(a > 0.75)\n",
    "valor"
   ]
  },
  {
   "cell_type": "markdown",
   "metadata": {},
   "source": [
    "Para analizar mejor las curvas mostraremos los ejemplos de entrenamiento a partir de *valor*, que es donde las curvas se empiezan a juntar."
   ]
  },
  {
   "cell_type": "code",
   "execution_count": 31,
   "metadata": {
    "scrolled": false
   },
   "outputs": [
    {
     "data": {
      "image/png": "[encoded data removed]",
      "text/plain": [
       "<Figure size 432x288 with 1 Axes>"
      ]
     },
     "metadata": {},
     "output_type": "display_data"
    }
   ],
   "source": [
    "curvaAprendizaje(xTrain, yTrain, xVal, yVal, 0, 0, slice(valor,None))"
   ]
  },
  {
   "cell_type": "markdown",
   "metadata": {},
   "source": [
    "Como se puede ver las curvas apenas tienen separación e incluso pueden llegar a juntarse (según los valores de entrenamiento/validación obtenidos). Por tanto podemos afirmar que el modelo no tiene mucha varianza y no hay *overfitting*.\n",
    "\n",
    "Del mismo modo el coste final de las curvas es lo bastante bajo como para confirmar que tampoco hay demasiada bias y se podría afirmar que no existe *underfitting*.\n",
    "\n",
    "Sin embargo como ya hemos dicho intentaremos mejorar el modelo para comprobar si es posible un mejor resultado."
   ]
  },
  {
   "cell_type": "markdown",
   "metadata": {},
   "source": [
    "#### AJUSTAR $\\lambda$"
   ]
  },
  {
   "cell_type": "markdown",
   "metadata": {},
   "source": [
    "Una buena forma de solucionar problemas de *underfitting* y *overfitting* es ajustar la variable $\\lambda$, si nuestra $\\lambda$ es demasiado grande probablemente nos lleve a un problema de *underfitting*, mientras que si es muy pequeña será de *overfitting*, por tanto, es importante encontrar un $\\lambda$ óptima para nuestro modelo.\n",
    "\n",
    "Para ello vamos a generar una secuencia de 2000 lambdas, que oscilen entre 0 y 100"
   ]
  },
  {
   "cell_type": "code",
   "execution_count": 32,
   "metadata": {},
   "outputs": [],
   "source": [
    "lambdas = np.linspace(0, 100, 2000)"
   ]
  },
  {
   "cell_type": "markdown",
   "metadata": {},
   "source": [
    "Con estas lambdas vamos a entrenar nuestro modelo y lo evaluaremos con los datos de validación. Seleccionaremos aquella lambda que máximice el porcentaje de acierto sobre los ejemplos de entrenamiento."
   ]
  },
  {
   "cell_type": "code",
   "execution_count": 33,
   "metadata": {},
   "outputs": [],
   "source": [
    "mejor = []\n",
    "for i in range(0, len(lambdas)):\n",
    "    mejor.append(trainRegresion(xTrain, yTrain, xVal, yVal, lambdas[i])[0])"
   ]
  },
  {
   "cell_type": "code",
   "execution_count": 34,
   "metadata": {},
   "outputs": [
    {
     "data": {
      "text/plain": [
       "4.252126063031516"
      ]
     },
     "execution_count": 34,
     "metadata": {},
     "output_type": "execute_result"
    }
   ],
   "source": [
    "mejor = np.array(mejor)\n",
    "l = lambdas[mejor.argmax()]\n",
    "l"
   ]
  },
  {
   "cell_type": "markdown",
   "metadata": {},
   "source": [
    "Como podemos ver, el porcentaje de aciertos mejora en cierta medida gracias al $\\lambda$ obtenido."
   ]
  },
  {
   "cell_type": "code",
   "execution_count": 35,
   "metadata": {},
   "outputs": [
    {
     "data": {
      "text/plain": [
       "(90.57971014492753, 85.68840579710145)"
      ]
     },
     "execution_count": 35,
     "metadata": {},
     "output_type": "execute_result"
    }
   ],
   "source": [
    "trainRegresion(xTrain, yTrain, xVal, yVal, l)"
   ]
  },
  {
   "cell_type": "code",
   "execution_count": 36,
   "metadata": {},
   "outputs": [
    {
     "data": {
      "text/plain": [
       "85.02608695652172"
      ]
     },
     "execution_count": 36,
     "metadata": {},
     "output_type": "execute_result"
    }
   ],
   "source": [
    "media1 = meanTrainRegresion(x, y, l, 500)[0]\n",
    "media1"
   ]
  },
  {
   "cell_type": "markdown",
   "metadata": {},
   "source": [
    "Si realizamos la curva de aprendizaje en el mismo punto donde antes se juntaban las curvas vemos que hay un menor *gap* entre ellas dos, indicando esto que los datos de validación son capaces de adaptarse mejor a los de entrenamiento. "
   ]
  },
  {
   "cell_type": "code",
   "execution_count": 37,
   "metadata": {
    "scrolled": true
   },
   "outputs": [
    {
     "data": {
      "image/png": "[encoded data removed]",
      "text/plain": [
       "<Figure size 432x288 with 1 Axes>"
      ]
     },
     "metadata": {},
     "output_type": "display_data"
    }
   ],
   "source": [
    "curvaAprendizaje(xTrain, yTrain, xVal, yVal, 0, 0, slice(valor,None))"
   ]
  },
  {
   "cell_type": "code",
   "execution_count": 38,
   "metadata": {
    "scrolled": true
   },
   "outputs": [
    {
     "data": {
      "image/png": "[encoded data removed]",
      "text/plain": [
       "<Figure size 432x288 with 1 Axes>"
      ]
     },
     "metadata": {},
     "output_type": "display_data"
    }
   ],
   "source": [
    "curvaAprendizaje(xTrain, yTrain, xVal, yVal, l, 0, slice(valor, None))"
   ]
  },
  {
   "cell_type": "markdown",
   "metadata": {},
   "source": [
    "Estos son los resultados obtenidos con las variables categóricas desaparecidas sustituidas mediante la moda. Comprobaremos ahora los resultados con la siguiente configuración.\n",
    "\n",
    "Como vemos en la distribución de las variables categóricas, la variable A1 tiene tres posibles valores: a, b y ?\n",
    "Dado que esta ultima aparece solo 12 veces en comparación con los otros dos valores (210 y 468 respectivamente), seguiremos sustiyendola por la moda. \n",
    "Sin embargo, para el resto crearemos una nueva clase llamada '?' dado que para todas ellas hay valores que aparecen con menos frecuencia y se han considerado como una clase.\n",
    "\n",
    "Antes de nada, crearemos una función que realice lo necesario para ajustar $\\lambda$ para tener obtener conclusiones de ello después:"
   ]
  },
  {
   "cell_type": "code",
   "execution_count": 39,
   "metadata": {},
   "outputs": [],
   "source": [
    "def ajustarLamb():\n",
    "    lambdas = np.linspace(0, 100, 2000)\n",
    "    mejor = []\n",
    "    for i in range(0, len(lambdas)):\n",
    "        mejor.append(trainRegresion(xTrain, yTrain, xVal, yVal, lambdas[i])[0])\n",
    "        \n",
    "    mejor = np.array(mejor)\n",
    "    l = lambdas[mejor.argmax()]\n",
    "    \n",
    "    return l"
   ]
  },
  {
   "cell_type": "markdown",
   "metadata": {},
   "source": [
    "Remplazamos los datos con la nueva configuración:"
   ]
  },
  {
   "cell_type": "code",
   "execution_count": 40,
   "metadata": {},
   "outputs": [],
   "source": [
    "d3.A1 = d1.replace(np.nan, d2.A1.mode())\n",
    "d3.A4 = d1.replace(np.nan, '?')\n",
    "d3.A5 = d1.replace(np.nan, '?')\n",
    "d3.A6 = d1.replace(np.nan, '?')\n",
    "d3.A7 = d1.replace(np.nan, '?')"
   ]
  },
  {
   "cell_type": "code",
   "execution_count": 41,
   "metadata": {},
   "outputs": [],
   "source": [
    "d4 = pd.get_dummies(d3)\n",
    "x_2 = d4.values[:, d4.columns!='A16']\n",
    "y_2 = d4['A16'].values\n",
    "xTrain_2, xVal_2, yTrain_2, yVal_2 = tts(x_2, y_2, test_size=0.2)"
   ]
  },
  {
   "cell_type": "markdown",
   "metadata": {},
   "source": [
    "Comprobamos que el porcentaje medio obtenido se asemeja mucho a la ya comprobada configuración de datos"
   ]
  },
  {
   "cell_type": "code",
   "execution_count": 42,
   "metadata": {},
   "outputs": [
    {
     "data": {
      "text/plain": [
       "85.05797101449275"
      ]
     },
     "execution_count": 42,
     "metadata": {},
     "output_type": "execute_result"
    }
   ],
   "source": [
    "meanTrainRegresion(x, y, 0, 500)[0]"
   ]
  },
  {
   "cell_type": "code",
   "execution_count": 43,
   "metadata": {},
   "outputs": [
    {
     "data": {
      "image/png": "[encoded data removed]",
      "text/plain": [
       "<Figure size 432x288 with 1 Axes>"
      ]
     },
     "metadata": {},
     "output_type": "display_data"
    }
   ],
   "source": [
    "curvaAprendizaje(xTrain, yTrain, xVal, yVal, 0, 0)"
   ]
  },
  {
   "cell_type": "code",
   "execution_count": 44,
   "metadata": {},
   "outputs": [
    {
     "data": {
      "text/plain": [
       "85.15072463768115"
      ]
     },
     "execution_count": 44,
     "metadata": {},
     "output_type": "execute_result"
    }
   ],
   "source": [
    "l = ajustarLamb()\n",
    "media2 = meanTrainRegresion(x, y, l, 500)[0]\n",
    "media2"
   ]
  },
  {
   "cell_type": "markdown",
   "metadata": {},
   "source": [
    "Como vemos, una vez ajustada lambda para las dos configuraciones, se obtienen unos resultados muy parecidos."
   ]
  },
  {
   "cell_type": "code",
   "execution_count": 45,
   "metadata": {},
   "outputs": [
    {
     "name": "stdout",
     "output_type": "stream",
     "text": [
      "Atributos sustituidos con la moda: 85.02608695652172\n",
      "Atributos sustituidos con una clase nueva: 85.15072463768115\n"
     ]
    }
   ],
   "source": [
    "print(\"Atributos sustituidos con la moda: \" + str(media1))\n",
    "print(\"Atributos sustituidos con una clase nueva: \" + str(media2))"
   ]
  },
  {
   "cell_type": "markdown",
   "metadata": {},
   "source": [
    "Usaremos aquella configuración de los datos que nos haya proporcionado mejores resultados:"
   ]
  },
  {
   "cell_type": "code",
   "execution_count": 46,
   "metadata": {},
   "outputs": [],
   "source": [
    "if(media2 > media1):\n",
    "    x, y, xTrain, yTrain, xVal, yVal = x_2, y_2, xTrain_2, yTrain_2, xVal_2, yVal_2"
   ]
  },
  {
   "cell_type": "markdown",
   "metadata": {},
   "source": [
    "Una vez tenemos los conjuntos de entrenamiento y validación procederemos a analizar los 3 métodos de entrenamiento: **Regresión Logística**, **Redes Neuronales** y **Support Vector Machine**."
   ]
  },
  {
   "cell_type": "markdown",
   "metadata": {},
   "source": [
    "# REGRESIÓN LOGÍSTICA"
   ]
  },
  {
   "cell_type": "markdown",
   "metadata": {},
   "source": [
    "Comenzamos con la regresión logística, este método requiere que definamos las funciones necesarias para los cálculos matemáticos. El método consiste en utilizar el gradiente de una función de costo para encontrar el mínimo (global, a ser posible, aunque en ciertos casos puede llevar a sobreajuste) de la función, para esto se utilizan unos valores $\\theta$ que se multiplican por la matriz de entrenamiento $X$ y los cuales se van ajustando hasta hallar el mínimo.\n",
    "\n",
    "Estas formulas ya fueron definidas en la entrada *In [23]*, en el apartado anterior, dado que se utilizó la regresión logística para las pruebas. Sin embargo explicaremos las mismas:\n",
    "\n",
    "Comenzamos con definir la función *g*, que será nuestra función de hipótesis y que responde a la siguiente fórmula: \n",
    "\n",
    "$$g(z) = \\frac{1}{1 + e^{-z}}$$\n",
    "\n",
    "También necesitaremos la función de costo, definida matemáticamente como:\n",
    "\n",
    "$$J(\\theta) = - \\frac{1}{m}{( (log(g(X\\theta) ))^{T}y) + (log(1 - g(X\\theta)))^{T}(1-y)} + \\frac{\\lambda}{2m}\\sum^n_{j=1}\\theta^2_j$$\n",
    "\n",
    "\n",
    "Esta función la usaremos para buscar el mínimo, que será el punto en el cual nuestro algoritmo esté optimizado. Para encontrar el mínimo será necesaria la derivada de la función: el gradiente.\n",
    "\n",
    "$$\\frac{\\partial J(\\theta)}{\\partial \\theta} = \\frac{1}{m}{ X^{T} (g(X\\theta) - y)} \\quad  para\\  j=0$$\n",
    "\n",
    "$$\\frac{\\partial J(\\theta)}{\\partial \\theta} = \\frac{1}{m}{ X^{T} (g(X\\theta) - y)} + \\frac{\\lambda}{m}\\theta_j \\quad  para\\  j\\ge1$$\n",
    "\n",
    "\n",
    "Además, añadiremos una función *safe_ln* que nos ayudará a evitar que el logaritmo de $1-g(X\\theta)$ de error cuando $g(X\\theta)$ sea 1 en algún caso.\n",
    "\n",
    "\n",
    "Para evitar problemas de overflow también definiremos una función *normalizar*, que normalizará los datos dados y devolverá la matriz normalizada junto a la media y la desviación estandar utilizadas para la misma."
   ]
  },
  {
   "cell_type": "markdown",
   "metadata": {},
   "source": [
    "Vamos a entrenar con este método para obtener un porcentaje de acierto y compararlo posteriormente con el resto de algoritmos. Además de obtener el score también calcularemos el tiempo de ejecución, por lo que usaremos la librería *time* para ello:"
   ]
  },
  {
   "cell_type": "code",
   "execution_count": 47,
   "metadata": {},
   "outputs": [],
   "source": [
    "import time"
   ]
  },
  {
   "cell_type": "code",
   "execution_count": 48,
   "metadata": {},
   "outputs": [
    {
     "name": "stdout",
     "output_type": "stream",
     "text": [
      "Score: 84.05797101449275\n",
      "Tiempo de ejecución: 0.015625\n"
     ]
    }
   ],
   "source": [
    "tic = time.process_time()      \n",
    "\n",
    "scoreRegresion = trainRegresion(xTrain, yTrain, xVal, yVal, l)[0]\n",
    "\n",
    "toc = time.process_time()\n",
    "\n",
    "timeRegresion = toc - tic\n",
    "\n",
    "print(\"Score: \" + str(scoreRegresion))\n",
    "print(\"Tiempo de ejecución: \" + str(timeRegresion))"
   ]
  },
  {
   "cell_type": "markdown",
   "metadata": {},
   "source": [
    "# REDES NEURONALES"
   ]
  },
  {
   "cell_type": "markdown",
   "metadata": {},
   "source": [
    "Seguiremos usando una red neuronal para clasificar nuestros datos. Este método busca simular el comportamiento de las neuronas en el cerebro y utiliza una serie de capas con un conjunto de nodos (neuronas) en cada una, junto a unas matrices de pesos, para la clasificación. Las capas se dividen en:  \n",
    "* **Capa de entrada**: Que recibirá los datos de entrada y, por tanto, tendrá tantos nodos como variables tengan nuestros datos.  \n",
    "* **Capa oculta**: La cual, utilizando una matriz de pesos sobre la capa de entrada, contendrá una transformación de los datos de entrada, que serán una aproximación intermedia entre la entrada y la clasificación final (la salida). Esta capa puede tener los nodos que se deseen, pero lo más común es que se encuentren entre el tamaño de entrada y de salida.\n",
    "\n",
    "* **Cada de salida**: Una transformación de la capa oculta (a partir de otra matriz de pesos), que ofrece la clasificación final. La cantidad de nodos dependerá del modelo, si se trata de una clasificación multi-clase será necesario tener un nodo por clase, indicando la probabilidad de pertenencia a cada clase (aunque también se podría usar un solo nodo que indicase la clase con mayor probabilidad), mientras que en otro caso solo hará falta un nodo, ya sea para indicar la probabilidad de afirmativo/negativo (como en nuestro caso), como para obtener una predicción numérica.\n",
    "\n",
    "La red neuronal puede tener múltiples capas ocultas (lo que se conoce como deep-learning), y es una práctica necesaria en clasificaciones complejas como reconocimiento de imágenes y de voz, sin embargo en clasificaciones más simples como la nuestra bastará con una capa."
   ]
  },
  {
   "cell_type": "markdown",
   "metadata": {},
   "source": [
    "El entrenamiento de la red neuronal es similar al de la regresión logística: definimos unas funciones de coste y gradiente y minimizamos las matrices de pesos ($\\theta s$) mediante una función *minimize*.  \n",
    "Para entrenar la red neuronal necesitaremos definir nuevas funciones de hipótesis, coste y gradiente que sean capaces de utilizar las matrices de pesos."
   ]
  },
  {
   "cell_type": "markdown",
   "metadata": {},
   "source": [
    "## HIPÓTESIS"
   ]
  },
  {
   "cell_type": "markdown",
   "metadata": {},
   "source": [
    "Es la encargada de crear la red neuronal y devolver un resultado:"
   ]
  },
  {
   "cell_type": "code",
   "execution_count": 49,
   "metadata": {},
   "outputs": [],
   "source": [
    "dg = lambda z: g(z) * (1 - g(z))\n",
    "g = lambda z: 1 / (1 + np.exp(-z))\n",
    "\n",
    "def h(theta1, theta2, x):\n",
    "    #La matriz X son las unidades pertenecientes a la capa de entrada\n",
    "    one = np.ones((len(x), 1))\n",
    "    #Añadimos a la matriz X la columna de 1's para obtener las unidades de la capa 1\n",
    "    a1 = np.hstack([one, x])\n",
    "    \n",
    "    #Obtenemos un resultado para las unidades de la capa oculta gracias a theta1\n",
    "    a2 = g(a1.dot(theta1.T))\n",
    "    #Añadimos la columna de 1's a la segunda capa\n",
    "    a2 = np.hstack([one, a2])\n",
    "    \n",
    "    #Obtenemos un resultado para las unidades de la capa de salida gracias a theta2\n",
    "    a3 = g(a2.dot(theta2.T)) \n",
    "    \n",
    "    return a3"
   ]
  },
  {
   "cell_type": "markdown",
   "metadata": {},
   "source": [
    "## FUNCIÓN DE COSTE"
   ]
  },
  {
   "cell_type": "markdown",
   "metadata": {},
   "source": [
    "Dada por la siguiente expresión matemática:\n",
    "\n",
    "\n",
    "$$J(\\theta) = \\frac{1}{m}\\sum_{i=1}^{m}\\sum_{k=1}^{K}[  -y^{(i)}_k  log((h_\\theta(x^{(i)}))_k) - (1 - y^{(i)}_k) log(1 - (h_\\theta(x^{(i)}))_k)  ] $$"
   ]
  },
  {
   "cell_type": "code",
   "execution_count": 50,
   "metadata": {},
   "outputs": [],
   "source": [
    "def funCosteRed(theta1, theta2, x, y, num_etiquetas):\n",
    "    yk = np.zeros((len(x), num_etiquetas))\n",
    "    for k in range(1, num_etiquetas + 1):\n",
    "        yaux = np.where(y == k, 1, 0)\n",
    "        yk[:, k-1] = yaux.ravel()\n",
    "        \n",
    "    h_result = h(theta1, theta2, x)\n",
    "    \n",
    "    yaux = (np.log( h_result) * yk) + (np.log( 1 - h_result ) * (1-yk))\n",
    "\n",
    "    return -1/len(x) * yaux.sum()"
   ]
  },
  {
   "cell_type": "markdown",
   "metadata": {},
   "source": [
    "Y su versión regularizada:\n",
    "\n",
    "$$J(\\theta) = \\frac{1}{m}\\sum_{i=1}^{m}\\sum_{k=1}^{K}[  -y^{(i)}_k   log((h_\\theta(x^{(i)}))_k) - (1 - y^{(i)}_k)  log(1 - (h_\\theta(x^{(i)}))_k)  ] + \\frac{\\lambda}{2m}[\\sum_{j=1}^{N}\\sum_{k=1}^{M}(\\theta^{(1)}_{j,k})^{2} + \\sum_{j=1}^{P}\\sum_{k=1}^{Q}(\\theta^{(2)}_{j,k})^{2} ] $$"
   ]
  },
  {
   "cell_type": "code",
   "execution_count": 51,
   "metadata": {},
   "outputs": [],
   "source": [
    "def funCosteReg(theta1, theta2, x, y, num_etiquetas, lamb):    \n",
    "    coste = funCosteRed(theta1, theta2, x, y, num_etiquetas)    \n",
    "        \n",
    "    return coste + (lamb/(2*len(x)))*(np.sum(theta1[:,1:]**2) + np.sum(theta2[:, 1:]**2))"
   ]
  },
  {
   "cell_type": "markdown",
   "metadata": {},
   "source": [
    "## GRADIENTE"
   ]
  },
  {
   "cell_type": "code",
   "execution_count": 52,
   "metadata": {},
   "outputs": [],
   "source": [
    "def gradienteRed(x, y, theta1, theta2, num_etiquetas) : \n",
    "    delta1 = np.zeros((len(theta1), theta1[0].size))\n",
    "    delta2 = np.zeros((len(theta2), theta2[0].size))\n",
    "\n",
    "    \n",
    "    yk = np.zeros((len(x), num_etiquetas))\n",
    "    for k in range(1, num_etiquetas + 1):\n",
    "        yaux = np.where(y == k, 1, 0)\n",
    "        yk[:, k-1] = yaux.ravel()\n",
    "        \n",
    "    for i in range(0, len(x)):\n",
    "        a1, a2, a3, z2 = salidaCapas(theta1, theta2, x[i,:])\n",
    "\n",
    "        d3 = (a3 - yk[i])\n",
    "        \n",
    "        z2 = np.append(1, z2)\n",
    "        d2 = (theta2.T).dot(d3)*dg(z2)\n",
    "    \n",
    "        d2 = np.delete(d2, 0)\n",
    "        \n",
    "        delta1 += np.matmul(d2[:,np.newaxis],a1[np.newaxis,:])\n",
    "        delta2 += np.matmul(d3[:,np.newaxis],a2[np.newaxis,:])\n",
    "        \n",
    "    D1 = delta1/len(x)\n",
    "    D2 = delta2/len(x)\n",
    "        \n",
    "    return np.concatenate((D1.ravel(), D2.ravel()))"
   ]
  },
  {
   "cell_type": "markdown",
   "metadata": {},
   "source": [
    "Para calcular el gradiente necesitaremos también la función *salidaCapas*, una redefinición de la función de hipótesis que nos devolverá los valores de todas las capas junto a *z2*, que es la multiplicación de $\\theta^{(1)}x$, es decir la multiplicación de la primera matriz de pesos (la que hay entre la capa de entrada y la oculta) y los datos de entrada."
   ]
  },
  {
   "cell_type": "code",
   "execution_count": 53,
   "metadata": {},
   "outputs": [],
   "source": [
    "def salidaCapas(theta1, theta2, x):\n",
    "    \n",
    "    #Añadimos al vector X un 1\n",
    "    a1 = np.append(1, x)\n",
    "    \n",
    "    z2 = a1.dot(theta1.T)\n",
    "    #Obtenemos un resultado para las unidades de la capa oculta gracias \n",
    "    #a theta1\n",
    "    a2 = g(z2)\n",
    "\n",
    "    #Añadimos un 1 al principio del vector de la segunda capa\n",
    "    a2 = np.append(1, a2)\n",
    "    \n",
    "    z3 = a2.dot(theta2.T)\n",
    "    #Obtenemos un resultado para las unidades de la capa de salida gracias \n",
    "    #a theta2\n",
    "    a3 = g(z3) \n",
    "    \n",
    "    return (a1,a2,a3,z2)"
   ]
  },
  {
   "cell_type": "markdown",
   "metadata": {},
   "source": [
    "Dado que a las matrices de pesos se pasarán como parámetro mediante un solo vector, necesitaremos una función *despliega* que nos permita separar ambas matrices. Este vector se debe a que las función *minimize* de *scipy.optimize* solo permite minimizar un único parametro, crear este vector nos da la posibilidad de optimizar los pesos de multiples matrices como si fuesen un único parámetro."
   ]
  },
  {
   "cell_type": "code",
   "execution_count": 54,
   "metadata": {},
   "outputs": [],
   "source": [
    "def despliega(params_rn, num_entradas=25, num_ocultas=10, num_etiquetas=1):\n",
    "    \n",
    "    theta1 = np.reshape ( params_rn [:num_ocultas * (num_entradas + 1)],\n",
    "    (num_ocultas, (num_entradas + 1)) )\n",
    "    \n",
    "    theta2 = np.reshape ( params_rn [num_ocultas * (num_entradas + 1):],\n",
    "    (num_etiquetas, (num_ocultas + 1)) )\n",
    "    \n",
    "    return (theta1, theta2)"
   ]
  },
  {
   "cell_type": "markdown",
   "metadata": {},
   "source": [
    "Finalmente definimos *costeRN*, que devuelve una tupla con el coste y el gradiente, esta es la función que utilizará *minimize* para realizar los cálculos. Recibirá el vector de $\\theta s$ mediante el parámetro *params_rn* y, mediante la función *despliega* y los tamaños de las capas lo convertirá en dos matrices."
   ]
  },
  {
   "cell_type": "code",
   "execution_count": 55,
   "metadata": {},
   "outputs": [],
   "source": [
    "def costeRN(params_rn, num_entradas, num_ocultas, num_etiquetas, X, y, reg) :\n",
    "    theta1, theta2 = despliega(params_rn, num_entradas, num_ocultas, num_etiquetas)\n",
    "\n",
    "    coste = funCosteReg(theta1, theta2, X, y, num_etiquetas, reg)\n",
    "    gradient = gradienteRed(X, y, theta1, theta2, num_etiquetas)\n",
    "    \n",
    "    delta1, delta2 = despliega(gradient, num_entradas, num_ocultas, num_etiquetas)\n",
    "                \n",
    "    delta1[:, 1:] += (theta1[:, 1:] * reg/len(X))\n",
    "    delta2[:, 1:] += (theta2[:, 1:] * reg/len(X))\n",
    "    \n",
    "    gradient = np.concatenate((delta1.ravel(), delta2.ravel()))\n",
    "    \n",
    "    return (coste,gradient)"
   ]
  },
  {
   "cell_type": "markdown",
   "metadata": {},
   "source": [
    "Para entrenar la red neuronal inicializaremos las matrices de pesos con unos valores aleatorios dentro del intervalo ($\\epsilon_{ini}$)determinado por:\n",
    "$$\\epsilon=\\frac{\\sqrt{6}}{\\sqrt{L_{in}+{L_{out}}}}$$  \n",
    "Donde $in$ es la capa que usa la matriz de pesos para transformarse en $out$ y $L_{in}$ y $L_{out}$ son los tamaños de dichas capas.  \n",
    "De este modo en cada entrenamiento las matrices iniciales serán distintas, lo que nos permitirá encontrar distintos valores y quedarnos con los que nos ofrezcan mejores resultados."
   ]
  },
  {
   "cell_type": "code",
   "execution_count": 56,
   "metadata": {},
   "outputs": [],
   "source": [
    "def pesosAleatorios(L_in, L_out):\n",
    "    Eini = (6**(1/2.0))/(L_in+L_out)**(1/2.0)\n",
    "    return np.random.uniform(-Eini, Eini, (L_in, L_out))"
   ]
  },
  {
   "cell_type": "markdown",
   "metadata": {},
   "source": [
    "Para terminar, definimos una función *trainRN* que será la encargada de realizar el entrenamiento y la validación. Esta función recibe el valor de regulación *lamb*, el tamaño de las capas de entrada y oculta en un vector/tupla y los datos de entrenamiento y validación en una tupla, además también dispone de un parámetro para seleccionar el número de iteraciones que se desean usar para el entrenamiento (cuantas más iteraciones más se ajustará a los datos de entrenamiento, pero podría generar sobreajuste). \n",
    "\n",
    "La función devolverá una tupla con los porcentajes de acierto en la validación y entrenamiento en una tupla y las matrices de pesos en un vector."
   ]
  },
  {
   "cell_type": "code",
   "execution_count": 57,
   "metadata": {},
   "outputs": [],
   "source": [
    "def trainRN(lamb, capas, datos, iteraciones=70):\n",
    "    xTrain, yTrain, xVal, yVal = datos\n",
    "    thetaRnd1 = pesosAleatorios(capas[0]+1, capas[1])\n",
    "    thetaRnd2 = pesosAleatorios(capas[1]+1, 1)\n",
    "    thetaRnd = np.r_[thetaRnd1.ravel(), thetaRnd2.ravel()]\n",
    "    xP = normalizar(xTrain)\n",
    "    fmin = opt.minimize(costeRN, thetaRnd, args=(capas[0],capas[1],1, xTrain, yTrain, lamb), \n",
    "                        method='TNC', options={'maxiter': iteraciones}, jac=True)\n",
    "    \n",
    "    optTheta = fmin.x\n",
    "   \n",
    "    theta1, theta2 = despliega(optTheta, capas[0], capas[1], 1)\n",
    "    \n",
    "    xval = (xVal-xP[1])/xP[2]\n",
    "    probabilidades = h(theta1, theta2, xVal)\n",
    "\n",
    "    \n",
    "    probabilidades = [1 if i >= 0.5 else 0 for i in probabilidades]\n",
    "\n",
    "    #Vector de booleanos\n",
    "    correctos = np.where(probabilidades == yVal)\n",
    "\n",
    "    porcentajeVal = (len(correctos[0]))*100/len(probabilidades)\n",
    "    \n",
    "    #Clasificacion entrenamiento\n",
    "    probabilidades = h(theta1, theta2, xTrain)\n",
    "    probabilidades = [1 if i >= 0.5 else 0 for i in probabilidades]\n",
    "\n",
    "    correctos = np.where(probabilidades == yTrain)\n",
    "\n",
    "    porcentajeTrain = (len(correctos[0]))*100/len(probabilidades)\n",
    "    \n",
    "    return ((porcentajeVal,porcentajeTrain), optTheta)"
   ]
  },
  {
   "cell_type": "markdown",
   "metadata": {},
   "source": [
    "Una vez tenemos todas las funciones empezaremos el entrenamiento. Empezaremos con un valor de regulación de $0.1$ y $500$ iteraciones."
   ]
  },
  {
   "cell_type": "code",
   "execution_count": 58,
   "metadata": {},
   "outputs": [
    {
     "data": {
      "text/plain": [
       "(82.6086956521739, 90.21739130434783)"
      ]
     },
     "execution_count": 58,
     "metadata": {},
     "output_type": "execute_result"
    }
   ],
   "source": [
    "capas = [xTrain.shape[1], 20]\n",
    "datos = (xTrain, yTrain, xVal, yVal)\n",
    "trainRN(0.1, capas, datos, 500)[0]"
   ]
  },
  {
   "cell_type": "markdown",
   "metadata": {},
   "source": [
    "Para intentar mejorar este porcentaje analizaremos el porcentaje de acierto generando las curvas de aprendizaje en base al número de iteraciones mediante una función *curvaIteraciones*. Esta función nos devolverá el número de iteraciones óptimo para nuestro modelo."
   ]
  },
  {
   "cell_type": "code",
   "execution_count": 59,
   "metadata": {},
   "outputs": [],
   "source": [
    "def curvaIteraciones (x, y, xval, yval, lamb, capas, iteraciones, intervalo=slice(None)) :\n",
    "    trainError = np.zeros((len(iteraciones), 1))\n",
    "    validationError = np.zeros((len(iteraciones), 1))\n",
    "    \n",
    "    for i in range(0, len(iteraciones)):    \n",
    "        validationError[i], trainError[i] = trainRN(lamb, capas, (x,y,xval,yval), iteraciones[i])[0]\n",
    "        \n",
    "    validationError /= 100\n",
    "    trainError /= 100  \n",
    "        \n",
    "    plt.plot(iteraciones, trainError[intervalo], 'b', label = 'Entrenamiento')\n",
    "    plt.plot(iteraciones, validationError[intervalo], 'r', label = 'Validación')\n",
    "    plt.xlabel('Número de iteraciones')\n",
    "    plt.ylabel('Score')\n",
    "    plt.legend(loc=0)\n",
    "    \n",
    "    return iteraciones[validationError.argmax()]"
   ]
  },
  {
   "cell_type": "code",
   "execution_count": 60,
   "metadata": {
    "scrolled": false
   },
   "outputs": [
    {
     "data": {
      "image/png": "[encoded data removed]",
      "text/plain": [
       "<Figure size 432x288 with 1 Axes>"
      ]
     },
     "metadata": {},
     "output_type": "display_data"
    }
   ],
   "source": [
    "it = [70, 100, 300, 500, 750, 1000, 1250, 1500, 2000]\n",
    "bestIt = curvaIteraciones(xTrain, yTrain, xVal, yVal, 0.1, capas, it)"
   ]
  },
  {
   "cell_type": "code",
   "execution_count": 61,
   "metadata": {},
   "outputs": [
    {
     "data": {
      "text/plain": [
       "500"
      ]
     },
     "execution_count": 61,
     "metadata": {},
     "output_type": "execute_result"
    }
   ],
   "source": [
    "bestIt"
   ]
  },
  {
   "cell_type": "markdown",
   "metadata": {},
   "source": [
    "Como se puede observar el porcentaje de acierto sobre los datos de entrenamiento aumenta con el número de iteraciones, sin embargo, el porcentaje de validación parece descender llegado un máximo de iteraciones, esto significa que a partir de ese punto hay sobreajuste, por lo que tendremos que usar un número de iteraciones menor.\n",
    "\n",
    "Otro modo de mejorar el porcentaje de acierto podría ser aumentar/disminuir el número de nodos de la capa oculta, para comprobarlo crearemos otra función que nos muestre las curvas de aprendizaje en base al número de nodos. Esta función nos devolverá el mejor número de nodos internos para nuestro modelo."
   ]
  },
  {
   "cell_type": "code",
   "execution_count": 62,
   "metadata": {},
   "outputs": [],
   "source": [
    "def curvaNodos(x, y, xval, yval, lamb, capas, iteraciones, nodos, intervalo=slice(None)) :\n",
    "    trainError = np.zeros((len(nodos), 1))\n",
    "    validationError = np.zeros((len(nodos), 1))\n",
    "    \n",
    "    for i in range(0, len(nodos)):\n",
    "        capas[1] = nodos[i]\n",
    "        validationError[i], trainError[i] = trainRN(lamb, capas, (x,y,xval,yval), iteraciones)[0]\n",
    "        \n",
    "    validationError /= 100\n",
    "    trainError /= 100  \n",
    "        \n",
    "    plt.plot(nodos, trainError[intervalo], 'b', label = 'Entrenamiento')\n",
    "    plt.plot(nodos, validationError[intervalo], 'r', label = 'Validación')\n",
    "    plt.xlabel('Número de nodos')\n",
    "    plt.ylabel('Score')\n",
    "    plt.legend(loc=0)\n",
    "    \n",
    "    return nodos[validationError.argmax()]"
   ]
  },
  {
   "cell_type": "code",
   "execution_count": 63,
   "metadata": {},
   "outputs": [
    {
     "data": {
      "image/png": "[encoded data removed]",
      "text/plain": [
       "<Figure size 432x288 with 1 Axes>"
      ]
     },
     "metadata": {},
     "output_type": "display_data"
    }
   ],
   "source": [
    "nodos = np.arange(5, 30, 3)\n",
    "bestNodo = curvaNodos(xTrain, yTrain, xVal, yVal, 0.1, capas, 500, nodos)"
   ]
  },
  {
   "cell_type": "code",
   "execution_count": 64,
   "metadata": {},
   "outputs": [
    {
     "data": {
      "text/plain": [
       "5"
      ]
     },
     "execution_count": 64,
     "metadata": {},
     "output_type": "execute_result"
    }
   ],
   "source": [
    "bestNodo"
   ]
  },
  {
   "cell_type": "markdown",
   "metadata": {},
   "source": [
    "Una vez tenemos el mejor número de nodos y el mejor número de iteraciones, tenemos que encontrar el valor óptimo para el parámetro $\\lambda$. Para ello implementamos la función *mejorAprendizaje*. Esta función realiza *(iteraciones_bucle x lamb.size)* entrenamientos, para asegurarnos de encontrar el mejor resultado posible, ya que con cada entrenamiento las $\\theta$'s se generan de manera aleatoria por lo que llegamos a diferentes resultados dependiendo de estas.\n",
    "Esta función devuelve el mejor porcentaje de acierto, el tiempo de ejecución del entrenamiento en cuestión y la $\\lambda$ utilizada para ello. "
   ]
  },
  {
   "cell_type": "code",
   "execution_count": 65,
   "metadata": {},
   "outputs": [],
   "source": [
    "def mejorAprendizaje(iteraciones_bucle, lamb, iteraciones_aprendizaje, capas, datos) :\n",
    "    mejorTotal = 0\n",
    "    \n",
    "    for l in lamb :\n",
    "        mejorP = 0\n",
    "        for i in range(0, iteraciones_bucle+1) :\n",
    "            \n",
    "            tic = time.process_time()\n",
    "            ap = trainRN(l, capas, datos, iteraciones_aprendizaje)[0]\n",
    "            toc = time.process_time()\n",
    "            timeRN = toc - tic\n",
    "            \n",
    "            if mejorP < ap[0] :\n",
    "                mejorP = ap[0]\n",
    "                mejorParcial = (ap[0], timeRN, l)\n",
    "        \n",
    "        if mejorTotal < mejorP :\n",
    "            mejorTotal = mejorP\n",
    "            mejor = mejorParcial\n",
    "               \n",
    "    return mejor"
   ]
  },
  {
   "cell_type": "markdown",
   "metadata": {},
   "source": [
    "Elegimos una secuencia de lambdas a probar y establecemos el número óptimo de nodos previamente calculado."
   ]
  },
  {
   "cell_type": "code",
   "execution_count": 66,
   "metadata": {},
   "outputs": [],
   "source": [
    "lambdas = [0.1, 0.03, 0.01, 1, 3, 5, 10]\n",
    "capas[1] = bestNodo"
   ]
  },
  {
   "cell_type": "code",
   "execution_count": 67,
   "metadata": {},
   "outputs": [],
   "source": [
    "scoreRN, timeRN, lamb = mejorAprendizaje(20, lambdas, bestIt, capas, datos)"
   ]
  },
  {
   "cell_type": "code",
   "execution_count": 68,
   "metadata": {},
   "outputs": [
    {
     "data": {
      "text/plain": [
       "0.01"
      ]
     },
     "execution_count": 68,
     "metadata": {},
     "output_type": "execute_result"
    }
   ],
   "source": [
    "lamb"
   ]
  },
  {
   "cell_type": "code",
   "execution_count": 69,
   "metadata": {},
   "outputs": [
    {
     "name": "stdout",
     "output_type": "stream",
     "text": [
      "Score: 89.1304347826087\n",
      "Tiempo de ejecución: 46.375\n"
     ]
    }
   ],
   "source": [
    "print(\"Score: \" + str(scoreRN))\n",
    "print(\"Tiempo de ejecución: \" + str(timeRN))"
   ]
  },
  {
   "cell_type": "markdown",
   "metadata": {},
   "source": [
    "# SUPPORT VECTOR MACHINES"
   ]
  },
  {
   "cell_type": "markdown",
   "metadata": {},
   "source": [
    "Finalizaremos con la SVM (Support Vector Machines). Para esto usaremos la libreria de sklearn *svm*. Tenemos que obtener un clasificador mediante la clase SVC con un kernel y un valor de regularización. Ajustaremos nuestros casos de entrenamiento mediante la función *fit* y, finalmente, gracias a la función *score* podremos validar nuestros casos de validación y obtener el porcentaje de acierto. "
   ]
  },
  {
   "cell_type": "code",
   "execution_count": 70,
   "metadata": {},
   "outputs": [],
   "source": [
    "import sklearn.svm as svm"
   ]
  },
  {
   "cell_type": "markdown",
   "metadata": {},
   "source": [
    "## KERNEL"
   ]
  },
  {
   "cell_type": "markdown",
   "metadata": {},
   "source": [
    "El kernel escogido debe ser uno lineal ya que, como hemos estudiado en la asignatura, es más recomendable usarlo frente uno Gaussiano en estos conjuntos de datos en los que el número de ejemplos de entrenamiento es pequeño y el número de variables es grande.\n",
    "\n",
    "Recordamos que nuestro conjunto de datos ronda las 30 características dependiendo de la configuración de variables categóricas establecida finalmente"
   ]
  },
  {
   "cell_type": "code",
   "execution_count": 71,
   "metadata": {},
   "outputs": [
    {
     "data": {
      "text/plain": [
       "(690, 29)"
      ]
     },
     "execution_count": 71,
     "metadata": {},
     "output_type": "execute_result"
    }
   ],
   "source": [
    "x.shape"
   ]
  },
  {
   "cell_type": "markdown",
   "metadata": {},
   "source": [
    "## PARÁMETRO DE REGULACIÓN *C* "
   ]
  },
  {
   "cell_type": "markdown",
   "metadata": {},
   "source": [
    "Para conseguir un buen parámetro C de regulación, vamos a crear una función que entrene nuestro modelo varias veces y se quede con el mejor parámetro:"
   ]
  },
  {
   "cell_type": "code",
   "execution_count": 72,
   "metadata": {},
   "outputs": [],
   "source": [
    "def ajustarC(valores, x, y, xval, yval):\n",
    "    mejor = 0\n",
    "    \n",
    "    for c in valores :\n",
    "        clf = svm.SVC(kernel='linear', C=c)\n",
    "        clf.fit(x, y)\n",
    "        porcent = clf.score(xval, yval)\n",
    "        \n",
    "        if(mejor < porcent) :\n",
    "            mejor = porcent\n",
    "            tupla = (c, mejor)\n",
    "\n",
    "    return tupla"
   ]
  },
  {
   "cell_type": "code",
   "execution_count": 73,
   "metadata": {},
   "outputs": [
    {
     "data": {
      "text/plain": [
       "array([ 0.01      ,  0.53578947,  1.06157895,  1.58736842,  2.11315789,\n",
       "        2.63894737,  3.16473684,  3.69052632,  4.21631579,  4.74210526,\n",
       "        5.26789474,  5.79368421,  6.31947368,  6.84526316,  7.37105263,\n",
       "        7.89684211,  8.42263158,  8.94842105,  9.47421053, 10.        ])"
      ]
     },
     "execution_count": 73,
     "metadata": {},
     "output_type": "execute_result"
    }
   ],
   "source": [
    "val = np.linspace(0.01, 10, 20)\n",
    "val"
   ]
  },
  {
   "cell_type": "code",
   "execution_count": 74,
   "metadata": {},
   "outputs": [],
   "source": [
    "c = ajustarC(val, xTrain, yTrain, xVal, yVal)[0]"
   ]
  },
  {
   "cell_type": "code",
   "execution_count": 115,
   "metadata": {},
   "outputs": [
    {
     "name": "stdout",
     "output_type": "stream",
     "text": [
      "Score: 87.68115942028986\n",
      "Tiempo de ejecución: 40.953125\n"
     ]
    }
   ],
   "source": [
    "tic = time.process_time() \n",
    "\n",
    "clf = svm.SVC(kernel='linear', C=c)\n",
    "clf.fit(xTrain, yTrain)\n",
    "scoreSVM = clf.score(xVal, yVal)\n",
    "scoreSVM *= 100\n",
    "\n",
    "toc = time.process_time()\n",
    "\n",
    "timeSVM = toc - tic\n",
    "\n",
    "print(\"Score: \" + str(scoreSVM))\n",
    "print(\"Tiempo de ejecución: \" + str(timeSVM))"
   ]
  },
  {
   "cell_type": "markdown",
   "metadata": {},
   "source": [
    "# CONCLUSIONES"
   ]
  },
  {
   "cell_type": "code",
   "execution_count": 153,
   "metadata": {},
   "outputs": [],
   "source": [
    "def plotConclusion(tiempo, score):\n",
    "    grupos = 3\n",
    "    means_time = tiempo\n",
    "    means_score = score\n",
    "\n",
    "    index = np.arange(grupos)\n",
    "    bar_width = 0.35\n",
    "    opacity = 0.8\n",
    "\n",
    "    rects1 = plt.bar(index, means_time, bar_width, alpha=opacity, color='b', label='Time')\n",
    "\n",
    "    rects2 = plt.bar(index + bar_width, means_score, bar_width, alpha=opacity, color='g', label='Score')\n",
    "    \n",
    "    plt.xlabel('Models')\n",
    "    plt.ylabel('Score')\n",
    "    plt.title('Score by model')\n",
    "    plt.xticks(index + bar_width, ('RL', 'RN', 'SVM'))\n",
    "    y_pos = np.arange(0, 101, 10)\n",
    "    plt.yticks(y_pos)\n",
    "    plt.legend(loc=6)\n",
    "\n",
    "    plt.show()"
   ]
  },
  {
   "cell_type": "code",
   "execution_count": 154,
   "metadata": {},
   "outputs": [],
   "source": [
    "t = (timeRegresion, timeRN, timeSVM)\n",
    "s = (scoreRegresion, scoreRN, scoreSVM)"
   ]
  },
  {
   "cell_type": "code",
   "execution_count": 155,
   "metadata": {},
   "outputs": [
    {
     "data": {
      "image/png": "[encoded data removed]",
      "text/plain": [
       "<Figure size 432x288 with 1 Axes>"
      ]
     },
     "metadata": {},
     "output_type": "display_data"
    }
   ],
   "source": [
    "plotConclusion(t, s)"
   ]
  },
  {
   "cell_type": "markdown",
   "metadata": {},
   "source": [
    "# BIBLIOGRAFÍA"
   ]
  },
  {
   "cell_type": "markdown",
   "metadata": {},
   "source": [
    "* https://www.coursera.org/learn/machine-learning\n",
    "* https://towardsdatascience.com/working-with-missing-data-in-machine-learning-9c0a430df4ce  \n",
    "* https://www.analyticsindiamag.com/5-ways-handle-missing-values-machine-learning-datasets/\n",
    "* https://github.com/ResidentMario/missingno\n"
   ]
  }
 ],
 "metadata": {
  "kernelspec": {
   "display_name": "Python 3",
   "language": "python",
   "name": "python3"
  },
  "language_info": {
   "codemirror_mode": {
    "name": "ipython",
    "version": 3
   },
   "file_extension": ".py",
   "mimetype": "text/x-python",
   "name": "python",
   "nbconvert_exporter": "python",
   "pygments_lexer": "ipython3",
   "version": "3.6.5"
  }
 },
 "nbformat": 4,
 "nbformat_minor": 2
}
