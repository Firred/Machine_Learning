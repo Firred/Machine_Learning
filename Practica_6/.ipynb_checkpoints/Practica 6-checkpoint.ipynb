{
 "cells": [
  {
   "cell_type": "markdown",
   "metadata": {},
   "source": [
    ">**Alumnos**: *Adrián Ogáyar Sanchez y Arturo Barbero Pérez*\n",
    "\n",
    ">**Grupo**: *11*"
   ]
  },
  {
   "cell_type": "markdown",
   "metadata": {},
   "source": [
    "# Support Vector Machines"
   ]
  },
  {
   "cell_type": "markdown",
   "metadata": {},
   "source": [
    "El objetivo de la primera parte de la práctica es familiarizarse con el uso del clasificador SVM que incorpora scikit-learn, para luego aplicarlo en la segunda parte de la práctica."
   ]
  },
  {
   "cell_type": "markdown",
   "metadata": {},
   "source": [
    "Comenzamos importando las librerías necesarias. Todas ellas han sido utilizadas y explicadas en prácticas anteriores, salvo **SVM** de **SciKit-Learn** que es el módulo que incorpora todos los algoritmos necesarios para las Support Vector Machines."
   ]
  },
  {
   "cell_type": "code",
   "execution_count": 1,
   "metadata": {},
   "outputs": [],
   "source": [
    "from scipy.io import loadmat\n",
    "import numpy as np\n",
    "import matplotlib.pyplot as plt\n",
    "import sklearn.svm as svm"
   ]
  },
  {
   "cell_type": "markdown",
   "metadata": {},
   "source": [
    "## Kernel Lineal"
   ]
  },
  {
   "cell_type": "markdown",
   "metadata": {},
   "source": [
    "Continuamos cargando los datos del fichero ex6data1.mat, ex6data2.mat y ex6data3.mat. Este fichero contiene una serie de datos de entrenamiento y datos de validación necesarios para la realización del apartado 1.3 que veremos posteriormente."
   ]
  },
  {
   "cell_type": "code",
   "execution_count": 2,
   "metadata": {},
   "outputs": [
    {
     "name": "stdout",
     "output_type": "stream",
     "text": [
      "(51, 2)\n",
      "(51, 1)\n",
      "(863, 2)\n",
      "(863, 1)\n",
      "(211, 2)\n",
      "(211, 1)\n",
      "(200, 2)\n",
      "(200, 1)\n"
     ]
    }
   ],
   "source": [
    "datos1 = loadmat(\"ex6data1.mat\")\n",
    "datos2 = loadmat(\"ex6data2.mat\")\n",
    "datos3 = loadmat(\"ex6data3.mat\")\n",
    "\n",
    "datos1_x = datos1['X']\n",
    "datos1_y = datos1['y']\n",
    "print(datos1_x.shape)\n",
    "print(datos1_y.shape)\n",
    "\n",
    "datos2_x = datos2['X']\n",
    "datos2_y = datos2['y']\n",
    "print(datos2_x.shape)\n",
    "print(datos2_y.shape)\n",
    "\n",
    "datos3_x = datos3['X']\n",
    "datos3_y = datos3['y']\n",
    "print(datos3_x.shape)\n",
    "print(datos3_y.shape)\n",
    "\n",
    "xval = datos3['Xval']\n",
    "yval = datos3['yval']\n",
    "print(xval.shape)\n",
    "print(yval.shape)"
   ]
  },
  {
   "cell_type": "markdown",
   "metadata": {},
   "source": [
    "Definimos una función que se va a encargar de realizar un gráfico para poder visualizar los datos. Esta función recibe la componente 'X' y la clasificacion 'y'."
   ]
  },
  {
   "cell_type": "code",
   "execution_count": 3,
   "metadata": {},
   "outputs": [],
   "source": [
    "def graficaDatos(x, y):\n",
    "    plt.figure()\n",
    "    \n",
    "    pos = (y == 1).ravel()\n",
    "    neg = (y == 0).ravel()\n",
    "    \n",
    "    plt.scatter(x[pos, 0], x[pos, 1], color='black', marker='+')\n",
    "    plt.scatter(x[neg, 0], x[neg, 1], color='yellow', edgecolors='black', marker='o')\n",
    "\n",
    "    return"
   ]
  },
  {
   "cell_type": "code",
   "execution_count": 4,
   "metadata": {},
   "outputs": [
    {
     "data": {
      "image/png": "[encoded data removed]",
      "text/plain": [
       "<Figure size 432x288 with 1 Axes>"
      ]
     },
     "metadata": {},
     "output_type": "display_data"
    }
   ],
   "source": [
    "graficaDatos(datos1_x, datos1_y)"
   ]
  },
  {
   "cell_type": "markdown",
   "metadata": {},
   "source": [
    "La clase *sklearn.svm.SVC* instancia un clasificador SVM utilizando el parámetro C de regularización y aplicando una función de kernel *kernel*. "
   ]
  },
  {
   "cell_type": "code",
   "execution_count": 5,
   "metadata": {},
   "outputs": [
    {
     "data": {
      "text/plain": [
       "SVC(C=1.0, cache_size=200, class_weight=None, coef0=0.0,\n",
       "  decision_function_shape='ovr', degree=3, gamma='auto', kernel='linear',\n",
       "  max_iter=-1, probability=False, random_state=None, shrinking=True,\n",
       "  tol=0.001, verbose=False)"
      ]
     },
     "execution_count": 5,
     "metadata": {},
     "output_type": "execute_result"
    }
   ],
   "source": [
    "clf = svm.SVC(kernel='linear', C=1.0)\n",
    "clf.fit(datos1_x, datos1_y.ravel())"
   ]
  },
  {
   "cell_type": "markdown",
   "metadata": {},
   "source": [
    "Creamos una función que recibe el clasificador previamente entrenado y los datos de entrada. Este método se encarga de crear unas coordenadas que van desde los mínimos hasta los máximos de 'x' y realiza una predicción sobre estos datos. Devuelve las coordenadas y las predicciones realizadas."
   ]
  },
  {
   "cell_type": "code",
   "execution_count": 6,
   "metadata": {},
   "outputs": [],
   "source": [
    "def generarSeparacion(clf, x):\n",
    "\n",
    "    x1 = np.linspace(x[:, 0].min(), x[:, 0].max(), 100)\n",
    "    x2 = np.linspace(x[:, 1].min(), x[:, 1].max(), 100)\n",
    "    x1, x2 = np.meshgrid(x1, x2)\n",
    "    \n",
    "    yp = clf.predict(np.array([x1.ravel(),x2.ravel()]).T).reshape(x1.shape)\n",
    "    \n",
    "    return (x1, x2, yp)"
   ]
  },
  {
   "cell_type": "code",
   "execution_count": 7,
   "metadata": {},
   "outputs": [],
   "source": [
    "x1, x2, yp = generarSeparacion(clf, datos1_x)"
   ]
  },
  {
   "cell_type": "markdown",
   "metadata": {},
   "source": [
    "Definiremos también una función encargada de completar la gráfica creada con *graficaDatos*. La completa añadiendo la frontera de decisión a esta. "
   ]
  },
  {
   "cell_type": "code",
   "execution_count": 8,
   "metadata": {},
   "outputs": [],
   "source": [
    "def graficaSeparacion(x, y, x1, x2, yp):\n",
    "    \n",
    "    graficaDatos(x,y)\n",
    "    plt.contour(x1, x2, yp)\n",
    "    \n",
    "    return"
   ]
  },
  {
   "cell_type": "markdown",
   "metadata": {},
   "source": [
    "### Resultado obtenido con C = 1"
   ]
  },
  {
   "cell_type": "code",
   "execution_count": 9,
   "metadata": {},
   "outputs": [
    {
     "data": {
      "image/png": "[encoded data removed]",
      "text/plain": [
       "<Figure size 432x288 with 1 Axes>"
      ]
     },
     "metadata": {},
     "output_type": "display_data"
    }
   ],
   "source": [
    "graficaSeparacion(datos1_x, datos1_y, x1, x2, yp)"
   ]
  },
  {
   "cell_type": "markdown",
   "metadata": {},
   "source": [
    "### Resultado obtenido con C = 100"
   ]
  },
  {
   "cell_type": "code",
   "execution_count": 10,
   "metadata": {
    "scrolled": true
   },
   "outputs": [
    {
     "data": {
      "image/png": "[encoded data removed]",
      "text/plain": [
       "<Figure size 432x288 with 1 Axes>"
      ]
     },
     "metadata": {},
     "output_type": "display_data"
    }
   ],
   "source": [
    "clf = svm.SVC(kernel='linear', C=100)\n",
    "\n",
    "clf.fit(datos1_x, datos1_y.ravel())\n",
    "\n",
    "x1, x2, yp = generarSeparacion(clf, datos1_x)\n",
    "\n",
    "graficaSeparacion(datos1_x, datos1_y, x1, x2, yp)"
   ]
  },
  {
   "cell_type": "markdown",
   "metadata": {},
   "source": [
    "Como podemos observar en las gráficas, el parámetro C funciona de manera contraria al parámetro $\\lambda$ de las prácticas anteriores. Cuanto mayor es C, realiza una mejor separación entre los dos grupos de datos que tenemos, es decir, consigue que haya un menor *underfitting* y un mayor *overfitting* a los datos.\n",
    "Sin embargo, cuanto menor es C, consigue que haya un mayor *underfitting* y un menor *overfitting*"
   ]
  },
  {
   "cell_type": "markdown",
   "metadata": {},
   "source": [
    "## Kernel Gaussiano"
   ]
  },
  {
   "cell_type": "markdown",
   "metadata": {},
   "source": [
    "A continuación utilizamos un kernel gaussiano para poder entrenar una SVM que clasifique correctamente el segundo conjunto de datos. \n",
    "Realizamos un proceso parecido al anterior, pero con los parametros: *kernel* = 'rbf' (equivalente a Gaussiano), *C* = 1, *gamma*= 1 / (2*sigma^2)*, donde *sigma* = 0.1"
   ]
  },
  {
   "cell_type": "code",
   "execution_count": 11,
   "metadata": {},
   "outputs": [
    {
     "data": {
      "image/png": "[encoded data removed]",
      "text/plain": [
       "<Figure size 432x288 with 1 Axes>"
      ]
     },
     "metadata": {},
     "output_type": "display_data"
    }
   ],
   "source": [
    "clf = svm.SVC(kernel='rbf', C=1, gamma=1/(2*0.1**2))\n",
    "\n",
    "clf.fit(datos2_x, datos2_y.ravel())\n",
    "\n",
    "x1, x2, yp = generarSeparacion(clf, datos2_x)\n",
    "\n",
    "graficaSeparacion(datos2_x, datos2_y, x1, x2, yp)"
   ]
  },
  {
   "cell_type": "markdown",
   "metadata": {},
   "source": [
    "## Elección de los parámetros $C$ y $\\sigma$"
   ]
  },
  {
   "cell_type": "markdown",
   "metadata": {},
   "source": [
    "En este caso tenemos que seleccionar los valores $C$ y $\\sigma$ para el conjunto de datos de *ex6data3.mat*. Teniendo en este caso unos valores de validacion *Xval* e *yval*.\n",
    "\n",
    "Para obtener los mejores valores de $C$ y $\\sigma$ crearemos una función ***ajustarPorcentaje*** que reciba 2 vectores con los posibles valores de $C$ y de $\\sigma$. Esta buscará la svm generada con los subconjuntos de estos parametros que tenga el mayor porcentaje de acierto respecto a los valores de validación, devolviendo una tupla $(C,\\sigma)$ con los parametros ajustados."
   ]
  },
  {
   "cell_type": "code",
   "execution_count": 12,
   "metadata": {},
   "outputs": [],
   "source": [
    "def ajustarPorcentaje(C, Sigma, x, y, xval, yval) :\n",
    "    mejorP = 0\n",
    "    \n",
    "    for c in C :\n",
    "        for sigma in Sigma :\n",
    "            clf = svm.SVC(kernel='rbf', C=c, gamma=1/(2*sigma**2))\n",
    "            clf.fit(x, y)\n",
    "            yv = clf.predict(xval)\n",
    "            porcent = (100 * np.where(yv == yval)[0].size)/yval.size\n",
    "            \n",
    "            if(mejorP < porcent) :\n",
    "                mejorP = porcent\n",
    "                tup = (c,sigma)\n",
    "\n",
    "    return tup"
   ]
  },
  {
   "cell_type": "markdown",
   "metadata": {},
   "source": [
    "En este caso generamos un sólo vector que usaremos en ambos parámetros."
   ]
  },
  {
   "cell_type": "code",
   "execution_count": 13,
   "metadata": {},
   "outputs": [
    {
     "name": "stdout",
     "output_type": "stream",
     "text": [
      "(1.0, 0.1)\n"
     ]
    }
   ],
   "source": [
    "m = np.array([0.01,0.03,0.1,0.3,1,3,10,30])\n",
    "ajustado = ajustarPorcentaje(m, m, datos3_x, datos3_y.ravel(), xval, yval.ravel())\n",
    "print(ajustado)"
   ]
  },
  {
   "cell_type": "markdown",
   "metadata": {},
   "source": [
    "Finalmente mostramos la gráfica obtenida para comprobar que el resultado se ajusta a los valores deseados."
   ]
  },
  {
   "cell_type": "code",
   "execution_count": 14,
   "metadata": {
    "scrolled": true
   },
   "outputs": [
    {
     "data": {
      "image/png": "[encoded data removed]",
      "text/plain": [
       "<Figure size 432x288 with 1 Axes>"
      ]
     },
     "metadata": {},
     "output_type": "display_data"
    }
   ],
   "source": [
    "clf = svm.SVC(kernel='rbf', C=ajustado[0], gamma=1/(2*ajustado[1]**2))\n",
    "\n",
    "clf.fit(datos3_x, datos3_y.ravel())\n",
    "\n",
    "x1, x2, yp = generarSeparacion(clf, datos3_x)\n",
    "\n",
    "graficaSeparacion(datos3_x, datos3_y, x1, x2, yp)"
   ]
  },
  {
   "cell_type": "markdown",
   "metadata": {},
   "source": [
    "# Detección de spam"
   ]
  },
  {
   "cell_type": "code",
   "execution_count": 15,
   "metadata": {},
   "outputs": [],
   "source": [
    "import codecs\n",
    "import get_vocab_dict as vocabDic\n",
    "import process_email as procEm"
   ]
  },
  {
   "cell_type": "code",
   "execution_count": null,
   "metadata": {},
   "outputs": [],
   "source": [
    "# Spam / Easy / Hard\n",
    "correos = [ [500], [2551], [250] ]"
   ]
  },
  {
   "cell_type": "code",
   "execution_count": 16,
   "metadata": {},
   "outputs": [],
   "source": [
    "# 1- Spam / 0 - No Spam\n",
    "def procesarDirec(x, y, dicc, directorio, nArchivos, spamBool):\n",
    "\n",
    "    for i in range(1, nArchivos + 1) :\n",
    "        email_contents = codecs.open('{0}/{1:04d}.txt'.format(directorio, i), 'r', encoding='utf-8', errors='ignore').read()\n",
    "        email = procEm.email2TokenList(email_contents)\n",
    "        email = set(email)\n",
    "        resultado = [elem in email for elem in dicc.keys()]\n",
    "        resultado = [1 if elem == True else 0 for elem in resultado]\n",
    "        x = np.vstack((x, resultado))\n",
    "        y.append(spamBool)\n",
    "    \n",
    "    return (x, y)  "
   ]
  },
  {
   "cell_type": "code",
   "execution_count": 17,
   "metadata": {},
   "outputs": [],
   "source": [
    "def procesarEmails():\n",
    "    \n",
    "    x = np.empty((0, 1899))\n",
    "    y = []\n",
    "    dicc = vocabDic.getVocabDict()\n",
    "\n",
    "    x, y = procesarDirec(x, y, dicc, 'spam', correos[0], [1])\n",
    "    x, y = procesarDirec(x, y, dicc, 'easy_ham', correos[1], [0])\n",
    "    x, y = procesarDirec(x, y, dicc, 'hard_ham', correos[2], [0])\n",
    "    \n",
    "    y = np.array(y)\n",
    "    \n",
    "    return (x, y)"
   ]
  },
  {
   "cell_type": "code",
   "execution_count": 20,
   "metadata": {},
   "outputs": [
    {
     "name": "stdout",
     "output_type": "stream",
     "text": [
      "(3301, 1899)\n",
      "(3301, 1)\n"
     ]
    }
   ],
   "source": [
    "x, y = procesarEmails()\n",
    "print(x.shape)\n",
    "print(y.shape)"
   ]
  },
  {
   "cell_type": "code",
   "execution_count": 24,
   "metadata": {},
   "outputs": [
    {
     "data": {
      "text/plain": [
       "3301"
      ]
     },
     "execution_count": 24,
     "metadata": {},
     "output_type": "execute_result"
    }
   ],
   "source": [
    "#Porcentajes para:\n",
    "#--------------------\n",
    "# Spam / Easy / Hard\n",
    "porcentajes = [ \n",
    "    [10, 10, 10], \n",
    "    [10, 20, 10], \n",
    "    [10, 30, 10] \n",
    "] # Aqui podremos ir poniendo las configuraciones segun queramos\n",
    "\n",
    "# Limites para:\n",
    "#---------------\n",
    "# Spam [0, 499]\n",
    "# Easy [500, 3050]\n",
    "# Hard [3051, 3300]\n",
    "\n",
    "limites = [ [correos[0] - 1], [correos[0] + correos[1] - 1], [np.sum(correos) - 1] ]\n",
    "            #499                #3050                              #3300"
   ]
  },
  {
   "cell_type": "code",
   "execution_count": null,
   "metadata": {},
   "outputs": [],
   "source": [
    "def calcPorc(n1, n2):\n",
    "    return (n1 * n2) / 100"
   ]
  },
  {
   "cell_type": "code",
   "execution_count": null,
   "metadata": {},
   "outputs": [],
   "source": [
    "def getValid(x, y, xVal, yVal, lim1, lim2, n):\n",
    "    \n",
    "    #sacar los 'n' numeros de 'x' y copiarlo en 'xval'\n",
    "    #lo mismo con yval\n",
    "    for i in range(0, n):\n",
    "        \n",
    "    #controlar los limites donde se encuentra el directorio en x (lim1, lim2)    \n",
    "             \n",
    "    #np.delete(x, 1, 0) borra la fila 1, columna 0 del array x \n",
    "    #copiar antes en xval con un append\n",
    "    \n",
    "    #hacer lo mismo con yval\n",
    "    \n",
    "    \n",
    "    return (x, y, xVal, yVal)"
   ]
  },
  {
   "cell_type": "code",
   "execution_count": null,
   "metadata": {},
   "outputs": [],
   "source": [
    "#Poner nombre a función (no se cual poner pq no se si se va a entrenar aquí tambien)\n",
    "def noName(x, y, porc, lim):\n",
    "    \n",
    "    xVal = []\n",
    "    yVal = []\n",
    "    \n",
    "    limAnterior = 0\n",
    "    \n",
    "    for i in range(0, len(porc)):\n",
    "        for j in range(0, len(porc[0])):\n",
    "            \n",
    "            x, y, xVal, yVal = getValid(x, y, xVal, yVal, limAnterior, lim[i, j], calcPorc(porc[i, j], correos[j]))\n",
    "            limAnterior = lim[i, j] + 1\n",
    "            \n",
    "    \n",
    "    \n",
    "    ''' EXPLICACION DEL DOBLE BUCLE DE ARRIBA\n",
    "    \n",
    "    #Meter esto en un bucle que vaya probando los porcentajes\n",
    "    #La fila de porc corresponde con la iteración del bucle i\n",
    "    #la columna de porc corresponde con la iteración del bucle j\n",
    "    #pasa lo mismo con el array lim\n",
    "    \n",
    "    \n",
    "    #En esos limites se ubica Spam\n",
    "    x, y, xVal, yVal = getValid(x, y, xVal, yVal, 0, lim[0, 0], calcPorc(porc[0, 0], spamElem))\n",
    "    \n",
    "    #En esos limites se ubica Easy\n",
    "    x, y, xVal, yVal = getValid(x, y, xVal, yVal, lim[0, 0] + 1, lim[0, 1], calcPorc(porc[0, 1], easyElem))\n",
    "    \n",
    "    #En esos limites se ubica Hard\n",
    "    x, y, xVal, yVal = getValid(x, y, xVal, yVal, lim[0, 1] + 1, lim[0, 2], calcPorc(porc[0, 2], hardElem))\n",
    "    '''\n",
    "    \n",
    "    \n",
    "    xVal = np.array(xVal)\n",
    "    yVal = np.array(yVal)\n",
    "\n",
    "    return (x, y, xVal, yVal)"
   ]
  },
  {
   "cell_type": "code",
   "execution_count": null,
   "metadata": {},
   "outputs": [],
   "source": [
    "x, y, xVal, yVal = noName(x, y, porcentajes, limites)"
   ]
  }
 ],
 "metadata": {
  "kernelspec": {
   "display_name": "Python 3",
   "language": "python",
   "name": "python3"
  },
  "language_info": {
   "codemirror_mode": {
    "name": "ipython",
    "version": 3
   },
   "file_extension": ".py",
   "mimetype": "text/x-python",
   "name": "python",
   "nbconvert_exporter": "python",
   "pygments_lexer": "ipython3",
   "version": "3.6.5"
  }
 },
 "nbformat": 4,
 "nbformat_minor": 2
}
