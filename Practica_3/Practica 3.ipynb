{
 "cells": [
  {
   "cell_type": "markdown",
   "metadata": {},
   "source": [
    ">**Alumnos**: *Arturo Barbero Pérez y Adrián Ogáyar Sanchez*\n",
    "\n",
    ">**Grupo**: *11*"
   ]
  },
  {
   "cell_type": "markdown",
   "metadata": {},
   "source": [
    "***"
   ]
  },
  {
   "cell_type": "markdown",
   "metadata": {},
   "source": [
    "# REGRESIÓN LOGÍSTICA MULTI-CLASE"
   ]
  },
  {
   "cell_type": "markdown",
   "metadata": {},
   "source": [
    "## VISUALIZACIÓN DE LOS DATOS"
   ]
  },
  {
   "cell_type": "markdown",
   "metadata": {},
   "source": [
    "Importamos las librerías que van a ser necesarias durante el desarrollo de la práctica: La librería **Pyplot** es necesaría para poder hacer el graficado de los números contenidos en la matriz de datos. **NumPy** es la librería que nos permite realizar calculos entre matrices y vectores de manera de más eficiente gracias a la vectorización. Importamos además **loadmat** que se va a encargar de obtener los datos del fichero mat. Por último, utilizamos **Optimize** de SciPy, que nos permite obtener el vector θ optimizado para cada clase."
   ]
  },
  {
   "cell_type": "code",
   "execution_count": 1,
   "metadata": {},
   "outputs": [],
   "source": [
    "from scipy.io import loadmat\n",
    "import numpy as np\n",
    "import matplotlib.pyplot as plt\n",
    "import scipy.optimize as opt"
   ]
  },
  {
   "cell_type": "code",
   "execution_count": 2,
   "metadata": {},
   "outputs": [],
   "source": [
    "data = loadmat('ex3data1.mat')\n",
    "\n",
    "# se pueden consultar las claves con data.keys()\n",
    "y = data['y']\n",
    "X = data['X']\n",
    "# almacena los datos leídos en X, y"
   ]
  },
  {
   "cell_type": "markdown",
   "metadata": {},
   "source": [
    "El fichero *ex3data1.mat* contiene 5000 ejemplos de entrenamiento en formato nativo para matrices de Octave/Matlab. El fichero se carga con la función loatmat que devuelve un diccionario del que podemos extraer las matrices *X* e *y*. \n",
    "Cada ejemplo de entrenamiento es una imagen de 20x20 pixeles donde cada píxel está representado por un número real que indica la intensidad en escala de grises de ese punto. Cada matriz de 20x20 se ha desplegado en un vector de 400 elementos que ocupa una fila de la matriz X. De esta forma X es una matriz de orden 5000x400."
   ]
  },
  {
   "cell_type": "code",
   "execution_count": 3,
   "metadata": {},
   "outputs": [
    {
     "data": {
      "text/plain": [
       "(-0.5, 199.5, 19.5, -0.5)"
      ]
     },
     "execution_count": 3,
     "metadata": {},
     "output_type": "execute_result"
    },
    {
     "data": {
      "image/png": "[encoded data removed]",
      "text/plain": [
       "<Figure size 432x288 with 1 Axes>"
      ]
     },
     "metadata": {},
     "output_type": "display_data"
    }
   ],
   "source": [
    "# Selecciona aleatoriamente 10 ejemplos de entrenamiento y los pinta\n",
    "\n",
    "sample = np.random.choice(X.shape[0], 10)\n",
    "plt.imshow( X[ sample, :].reshape(-1, 20).T)\n",
    "plt.axis ('off')"
   ]
  },
  {
   "cell_type": "markdown",
   "metadata": {},
   "source": [
    "## VECTORIZACIÓN DE LA REGRESIÓN LOGÍSTICA"
   ]
  },
  {
   "cell_type": "markdown",
   "metadata": {},
   "source": [
    "### Vectorización de la función de coste"
   ]
  },
  {
   "cell_type": "markdown",
   "metadata": {},
   "source": [
    "El valor de la función de coste (sin regularizar) en regresión logística viene dado por la siguiente expresión:\n",
    "\n",
    "$$J(\\theta) = \\frac{1}{m}· \\sum_{i=1}^{m}[ -y^{(i)}· log(h_\\theta(x^{(i)})) - (1 - y^{(i)})· log(1 - h_\\theta(x^{(i)})) ]$$\n",
    "\n",
    "Donde *m* es el número de ejemplos de entrenamiento y $h_\\theta$ es la función sigmoide que viene dada por la expresión:\n",
    "\n",
    "$$g(z) = \\frac{1}{1 + e^{-z}}$$\n",
    "\n",
    "La función de coste podemos darla vectorizada con los siguientes cálculos:\n",
    "\n",
    "$$J(\\theta) = - \\frac{1}{m}·{((log( g(X\\theta) ))^{T}y) + (log(1 - g(X\\theta)))^{T}(1-y))}$$\n",
    "\n",
    "De esta manera, el sumatorio es más fácil de calcular ya que las multiplicaciones se realizan entre matrices, siendo así de una manera más rápida. Mediante este método nos ahorramos la necesidad de bucles, ayudados de la multiplicación elemento a elemento y la función sumatorio.\n",
    "\n",
    "Pasemos a declarar las funciones necesarias:"
   ]
  },
  {
   "cell_type": "code",
   "execution_count": 4,
   "metadata": {},
   "outputs": [],
   "source": [
    "g = lambda z: 1 / (1 + np.exp(-z))"
   ]
  },
  {
   "cell_type": "code",
   "execution_count": 5,
   "metadata": {},
   "outputs": [],
   "source": [
    "def funCoste(theta, x, y):\n",
    "    return -1/len(x) * (((np.log( g(x.dot(theta)) )).T).dot(y) + \n",
    "                        ((np.log( 1 - g(x.dot(theta)) )).T).dot(1-y))"
   ]
  },
  {
   "cell_type": "markdown",
   "metadata": {},
   "source": [
    "### Vectorización del gradiente"
   ]
  },
  {
   "cell_type": "markdown",
   "metadata": {},
   "source": [
    "El gradiente de la función de coste (sin regularizar) es un vector de la misma longitud de $\\theta$ donde la componente *j* viene dada por la expresión:\n",
    "\n",
    "$$\\frac{\\partial J(\\theta)}{\\partial \\theta} = \\frac{1}{m}· \\sum_{i=1}^{m}( h_\\theta(x^{(i)}) - y^{(i)})·x^{(i)}_j$$\n",
    "\n",
    "Pudiendo darla vectorizada de la siguiente manera:\n",
    "\n",
    "$$\\frac{\\partial J(\\theta)}{\\partial \\theta} = \\frac{1}{m}·{ X^{T} (g(X\\theta) - y)}$$"
   ]
  },
  {
   "cell_type": "code",
   "execution_count": 6,
   "metadata": {},
   "outputs": [],
   "source": [
    "def gradient(theta, x, y):\n",
    "    return 1/len(x) * (x.T).dot(g(x.dot(theta)) - y)"
   ]
  },
  {
   "cell_type": "markdown",
   "metadata": {},
   "source": [
    "### Vectorización de la versión regularizada"
   ]
  },
  {
   "cell_type": "markdown",
   "metadata": {},
   "source": [
    "Añadimos ahora el término de regularización de la función de coste vectorizada y el gradiente de la regresión logística\n",
    "\n",
    "\n",
    "$$J(\\theta) = [ \\frac{1}{m}· \\sum_{i=1}^{m}[ -y^{(i)}· log(h_\\theta(x^{(i)})) - (1 - y^{(i)})· log(1 - h_\\theta(x^{(i)})) ] + \\frac{\\lambda}{2m}· \\sum_{j=1}^{n} \\theta^{2}_j ] $$\n",
    "\n",
    "$$\n",
    "\\frac{\\partial J(\\theta)}{\\partial\\theta_j} = \\begin{cases}\n",
    "\\frac{1}{m}· \\sum_{i=1}^{m}( h_\\theta(x^{(i)}) - y^{(i)})·x^{(i)}_j\n",
    "& \\mbox{si $j=0$,}\\\\\n",
    "(\\frac{1}{m}· \\sum_{i=1}^{m}( h_\\theta(x^{(i)}) - y^{(i)})·x^{(i)}_j) + \\frac{\\lambda}{m} · \\theta_j & \\mbox{si $j >= 1$}\n",
    "\\end{cases}\n",
    "$$\n",
    "\n",
    "Dadas vectorizadas respectivamente de la siguiente manera:\n",
    "\n",
    "$$J(\\theta)= \\frac{-1}{m} ((log(g(X\\theta)))^Ty+log(1-g(X\\theta)))^T(1-y)+\\frac{\\lambda}{2m}\\sum_{j=1}^{n} \\theta^{2}_j$$\n",
    "\n",
    "$$\\frac{\\partial J(\\theta)}{\\partial\\theta_j}=\\frac{1}{m}X^T(g(X\\theta)-y)+\\frac{\\lambda}{m}\\theta_j$$"
   ]
  },
  {
   "cell_type": "code",
   "execution_count": 7,
   "metadata": {},
   "outputs": [],
   "source": [
    "def funCosteReg(theta, x, y, lamb):\n",
    "    return -1/len(x) * (((np.log( g(x.dot(theta)) )).T).dot(y) +\n",
    "                        ((np.log( 1 - g(x.dot(theta)) )).T).dot(1-y) +\n",
    "                        (lamb/(2*len(x))*(np.sum(theta))**2))\n",
    "\n",
    "def gradientReg(theta, x, y, lamb):\n",
    "    return 1/len(x) * (x.T).dot(g(x.dot(theta)) - y) + (lamb/len(x))*theta"
   ]
  },
  {
   "cell_type": "markdown",
   "metadata": {},
   "source": [
    "## CLASIFICACIÓN DE UNO FRENTE A TODOS"
   ]
  },
  {
   "cell_type": "markdown",
   "metadata": {},
   "source": [
    "Vamos a entrenar un clasificador por regresión logística para cada una de las 10 clases del conjunto de datos. Lo implementaremos con una función que devuelve una matriz $\\theta$ de orden Kx(N+1) donde cada fila de la matriz corresponde a los parámetros aprendidos para el clasificador de una de las clases. Esto lo realizaremos mediante una función (clasificadorClase) que devuelve el vector $\\theta$ aprendido para una determinada clase.\n"
   ]
  },
  {
   "cell_type": "code",
   "execution_count": 8,
   "metadata": {},
   "outputs": [],
   "source": [
    "def clasificadorClase(X, y, num_etiquetas, reg):\n",
    "    \n",
    "    thetaAux = np.zeros((len(X[0])))\n",
    "    result = opt.fmin_tnc(func=funCosteReg, x0=thetaAux, fprime=gradientReg,\n",
    "                          args=(X, y.ravel(), reg))\n",
    "    \n",
    "    return result[0]"
   ]
  },
  {
   "cell_type": "markdown",
   "metadata": {},
   "source": [
    "La función oneVsAll es la encargada de devolver la matriz $\\theta$. En ella se crea una matriz de ceros de orden Kx(N+1) y mediante un bucle que selecciona que ejemplos de entrenamiento pertenecen a una clase determinada, indicada por el indice *i*.\n",
    "Con esto lo que hacemos es poner a 1, en el vector *yaux*, la clase que queremos clasificar y el resto a 0. Una vez hecho esto, realizamos la regresión llamando a la funcion *clasificadorClase* que optimiza los parametros $\\theta$, necesarios para poder separar los ejemplos de entrenamiento de la clase que estamos clasificando, del resto de clases.\n",
    "Esto lo realizamos con todas las clases para obtener finalmente la matriz que debemos devolver.\n"
   ]
  },
  {
   "cell_type": "code",
   "execution_count": 9,
   "metadata": {},
   "outputs": [],
   "source": [
    "def oneVsAll(X, y, num_etiquetas, reg):\n",
    "    # Matriz theta de orden Kx(N+1) inicializada con 0's, donde K es el\n",
    "    # número de clases y N+1 el número de etiquetas\n",
    "    theta = np.zeros((num_etiquetas, len(X[0])))\n",
    "\n",
    "    for i in range(1, num_etiquetas + 1):\n",
    "        yaux = np.where(y == i, 1, 0)\n",
    "        thetaAux = np.zeros((len(X[0])))\n",
    "        theta[i-1, :] = clasificadorClase(X, yaux, num_etiquetas, reg)\n",
    "    \n",
    "    return theta"
   ]
  },
  {
   "cell_type": "code",
   "execution_count": 10,
   "metadata": {
    "scrolled": false
   },
   "outputs": [
    {
     "name": "stdout",
     "output_type": "stream",
     "text": [
      "Matriz theta: [[ 0.00000000e+00  0.00000000e+00  1.13135128e-04 ...  7.42102256e-03\n",
      "   5.48777430e-09  0.00000000e+00]\n",
      " [ 0.00000000e+00  0.00000000e+00 -2.43976568e-04 ...  1.55833529e-02\n",
      "  -1.67325410e-03  0.00000000e+00]\n",
      " [ 0.00000000e+00  0.00000000e+00 -1.48061238e-04 ... -1.87795685e-05\n",
      "  -4.55190313e-07  0.00000000e+00]\n",
      " ...\n",
      " [ 0.00000000e+00  0.00000000e+00 -2.29247339e-04 ... -1.62191773e-02\n",
      "   1.72293094e-03  0.00000000e+00]\n",
      " [ 0.00000000e+00  0.00000000e+00 -1.44601664e-06 ... -3.97255265e-02\n",
      "   3.86798022e-03  0.00000000e+00]\n",
      " [ 0.00000000e+00  0.00000000e+00 -1.20468356e-08 ... -1.10420125e-04\n",
      "   2.67490299e-06  0.00000000e+00]]\n"
     ]
    }
   ],
   "source": [
    "theta_opt = oneVsAll(X, y, 10, 0.1)\n",
    "print(\"Matriz theta: \" + str(theta_opt))"
   ]
  },
  {
   "cell_type": "markdown",
   "metadata": {},
   "source": [
    "Una vez hemos entrenado el clasificador y hemos obtenido las $\\theta$ optimizadas. Vamos a comprobar cuantos ejemplos de entrenamiento clasifica correctamente. Para ello, para cada ejemplo de entrenamiento calculamos la probabilidad de que pertenezca a una clase u otra y obtenemos los índices de los máximos de cada fila. Este índice coincide con la clase que ha obtenido la mayor probabilidad.\n",
    "Comparamos estos indices con el vector *y* que contiene las etiquetas que se han asignado a cada imagen, y obtenemos un vector con *True* o *False* dependiendo de si los elementos coindicen entre sí o no.\n",
    "Por último contamos la cantidad de *True* que hay en el vector."
   ]
  },
  {
   "cell_type": "code",
   "execution_count": 11,
   "metadata": {
    "scrolled": true
   },
   "outputs": [
    {
     "name": "stdout",
     "output_type": "stream",
     "text": [
      "Porcentaje de clasificados correctamente: 95.92%\n"
     ]
    }
   ],
   "source": [
    "#Calculamos la probabilidad de que pertenezca a una clase u otra\n",
    "probabilidad = g(X.dot(theta_opt.T))\n",
    "\n",
    "#Obtenemos el índice del elemento con mayor probabilidad\n",
    "indices = np.argmax(probabilidad, axis=1)\n",
    "indices+=1\n",
    "\n",
    "#Vector de booleanos\n",
    "porcentaje = (indices == y.ravel())\n",
    "clasificados = porcentaje[porcentaje == True]\n",
    "\n",
    "print(\"Porcentaje de clasificados correctamente: \" \n",
    "      + str((len(clasificados)/len(X))*100) + \"%\")"
   ]
  },
  {
   "cell_type": "markdown",
   "metadata": {},
   "source": [
    "# Redes neuronales"
   ]
  },
  {
   "cell_type": "markdown",
   "metadata": {},
   "source": [
    "En este caso usaremos unos pesos proporcionados para crear una red neuronal y evaluar su precisión.\n",
    "\n",
    "Para esto leemos el fichero *ex3weights.mat*, que contine las $\\theta$s."
   ]
  },
  {
   "cell_type": "code",
   "execution_count": 15,
   "metadata": {},
   "outputs": [],
   "source": [
    "weights = loadmat('ex3weights.mat')\n",
    "theta1, theta2 = weights['Theta1'], weights['Theta2']"
   ]
  },
  {
   "cell_type": "markdown",
   "metadata": {},
   "source": [
    "Ahora crearemos una red neuronal para que calcule la probabilidad de que cada caso de prueba sea uno de los números.\n",
    "\n",
    "La red neuronal está compuesta por 400 nodos en la capa externa y 25 en la oculta, terminando con 10 valores como resultado de la operación.\n",
    "\n",
    "Para esto utilizaremos operaciones matriciales que agilicen el proceso (ya que se tratan de enormes cantidades de datos).\n",
    "\n",
    "Para obtener los resultados de la primera capa multiplicamos las matrices $x$ y $\\theta_1^T$ y las metemos en la función sigmoide (*g()*) que ya habíamos declarado. De este modo tenemos una matriz **z** con los nodos de la capa oculta.\n",
    "\n",
    "Para la segunda capa multiplicamos la matriz **z** por $\\theta_2^T$, metiéndolas también en *g()* y obteniendo así *h(x)*, una matriz de $5000x10$, siendo las filas los casos de prueba y las columnas las probabilidades de pertenecer a cada número."
   ]
  },
  {
   "cell_type": "code",
   "execution_count": 13,
   "metadata": {},
   "outputs": [],
   "source": [
    "def redNeuronal(x) :\n",
    "    one = np.ones((len(x), 1))\n",
    "    x = np.hstack([one, x])\n",
    "\n",
    "    z = g(x.dot(theta1.T))\n",
    "    \n",
    "    one = np.ones((len(z), 1))\n",
    "    z = np.hstack([one, z])\n",
    "   \n",
    "    return g(z.dot(theta2.T))"
   ]
  },
  {
   "cell_type": "markdown",
   "metadata": {},
   "source": [
    "Finalmente vamos a calcular el porcentaje de acierto de la red neuronal."
   ]
  },
  {
   "cell_type": "code",
   "execution_count": 14,
   "metadata": {},
   "outputs": [
    {
     "name": "stdout",
     "output_type": "stream",
     "text": [
      "Porcentaje de clasificados correctamente: 97.52%\n"
     ]
    }
   ],
   "source": [
    "#Calculamos la probabilidad de que pertenezca a una clase u otra\n",
    "probabilidades = redNeuronal(X)\n",
    "\n",
    "#Obtenemos el índice del elemento con mayor probabilidad\n",
    "maximos = np.argmax(probabilidades, axis=1)\n",
    "maximos += 1\n",
    "\n",
    "#Vector de booleanos\n",
    "porcentaje = (maximos == y.ravel())\n",
    "\n",
    "clasificados = porcentaje[porcentaje == True]\n",
    "\n",
    "print(\"Porcentaje de clasificados correctamente: \" \n",
    "      + str(len(clasificados)/len(X)*100)+\"%\")"
   ]
  },
  {
   "cell_type": "markdown",
   "metadata": {},
   "source": [
    "Como se puede apreciar, el porcentaje de acierto es del 97.52%, considerablemente superior al anterior."
   ]
  },
  {
   "cell_type": "code",
   "execution_count": null,
   "metadata": {},
   "outputs": [],
   "source": []
  },
  {
   "cell_type": "code",
   "execution_count": null,
   "metadata": {},
   "outputs": [],
   "source": []
  }
 ],
 "metadata": {
  "kernelspec": {
   "display_name": "Python 3",
   "language": "python",
   "name": "python3"
  },
  "language_info": {
   "codemirror_mode": {
    "name": "ipython",
    "version": 3
   },
   "file_extension": ".py",
   "mimetype": "text/x-python",
   "name": "python",
   "nbconvert_exporter": "python",
   "pygments_lexer": "ipython3",
   "version": "3.6.5"
  }
 },
 "nbformat": 4,
 "nbformat_minor": 2
}
