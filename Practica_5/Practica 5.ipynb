{
 "cells": [
  {
   "cell_type": "markdown",
   "metadata": {},
   "source": [
    ">**Alumnos**: *Adrián Ogáyar Sanchez y Arturo Barbero Pérez*\n",
    "\n",
    ">**Grupo**: *11*"
   ]
  },
  {
   "cell_type": "markdown",
   "metadata": {},
   "source": [
    "# Regresión lineal regularizada: sesgo y varianza"
   ]
  },
  {
   "cell_type": "markdown",
   "metadata": {},
   "source": [
    "El objetivo de esta práctica es comprobar los efectos del sesgo y la varianza.\n",
    "Para esto aplicaremos regresión lineal regularizada para aprender una hipótesis sesgada, que no es capaz de\n",
    "clasificar correctamente a los ejemplos de entrenamiento, y a continuación usaremos de nuevo la\n",
    "regresión lineal para sobre-ajustar los datos de entrenamiento a un polinomio de grado superior.\n",
    "\n",
    "Comenzamos importando las librerías necesarias. Todas ellas han sido utilizadas y explicadas en prácticas anteriores."
   ]
  },
  {
   "cell_type": "code",
   "execution_count": 4,
   "metadata": {},
   "outputs": [],
   "source": [
    "from scipy.io import loadmat\n",
    "import numpy as np\n",
    "import scipy.optimize as opt\n",
    "import matplotlib.pyplot as ptl"
   ]
  },
  {
   "cell_type": "markdown",
   "metadata": {},
   "source": [
    "## Regresión lineal regularizada"
   ]
  },
  {
   "cell_type": "markdown",
   "metadata": {},
   "source": [
    "Continuamos cargando los datos del fichero *ex5data1.mat* Este fichero contiene una serie de datos de entrenamiento, datos de validación y datos de prueba."
   ]
  },
  {
   "cell_type": "code",
   "execution_count": 11,
   "metadata": {},
   "outputs": [],
   "source": [
    "data = loadmat('ex5data1.mat')\n",
    "\n",
    "X = data['X']\n",
    "y = data['y']\n",
    "Xtest = data['Xtest']\n",
    "ytest = data['ytest']\n",
    "Xval = data['Xval']\n",
    "yval = data['yval']"
   ]
  },
  {
   "cell_type": "markdown",
   "metadata": {},
   "source": [
    "Tras cargar los datos debemos crear una función para calcular el coste y el gradiente de la regresión lineal regularizada que siguen esta expresión:\n",
    "$$J(\\theta)=\\frac{1}{2m}(\\sum^m_{i=1}(h_\\theta(x^{(i)})-y^{(i)})^2)+\\frac{\\lambda}{2m}(\\sum^n_{j=1}\\theta^2_j)$$\n",
    "$$\\frac{\\delta J(\\theta)}{\\delta\\theta_0}=\\frac{1}{m}\\sum^m_{i=1}(h_\\theta(x^{(i)})-y^{(i)})x^{(i)}_j\\quad para\\: j = 0$$\n",
    "$$\\frac{\\delta J(\\theta)}{\\delta\\theta_0}=\\frac{1}{m}\\sum^m_{i=1}(h_\\theta(x^{(i)})-y^{(i)})x^{(i)}_j+\\frac{\\lambda}{m}\\theta_j\\quad para\\: j\\ge 1$$"
   ]
  },
  {
   "cell_type": "code",
   "execution_count": 20,
   "metadata": {},
   "outputs": [],
   "source": [
    "h = lambda x, t : t*x.T\n",
    "\n",
    "def coste(x, y, theta, lamb) :    \n",
    "    return 1/(2*m) * (np.sum((h(x, theta)-y)**2)+lamb/(2*m)*np.sum(theta[1:]**2)) \n",
    "\n",
    "def gradiente(x, y, theta, lamb) :\n",
    "    grad = 1/(2*m) * (np.sum(h(x,theta)-y)*x)\n",
    "    grad[1:] += lamb/m*theta[1:]\n",
    "    return grad\n",
    "\n",
    "def regLinealReg(x, y, theta, lamb) :\n",
    "    return(coste(x,y,theta,lamb), gradiente(x,y,theta,lamb))"
   ]
  },
  {
   "cell_type": "code",
   "execution_count": null,
   "metadata": {},
   "outputs": [],
   "source": []
  }
 ],
 "metadata": {
  "kernelspec": {
   "display_name": "Python 3",
   "language": "python",
   "name": "python3"
  },
  "language_info": {
   "codemirror_mode": {
    "name": "ipython",
    "version": 3
   },
   "file_extension": ".py",
   "mimetype": "text/x-python",
   "name": "python",
   "nbconvert_exporter": "python",
   "pygments_lexer": "ipython3",
   "version": "3.6.7"
  }
 },
 "nbformat": 4,
 "nbformat_minor": 2
}
