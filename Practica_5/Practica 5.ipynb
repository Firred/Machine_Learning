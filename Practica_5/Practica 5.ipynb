{
 "cells": [
  {
   "cell_type": "markdown",
   "metadata": {},
   "source": [
    ">**Alumnos**: *Adrián Ogáyar Sanchez y Arturo Barbero Pérez*\n",
    "\n",
    ">**Grupo**: *11*"
   ]
  },
  {
   "cell_type": "markdown",
   "metadata": {},
   "source": [
    "# Regresión lineal regularizada: sesgo y varianza"
   ]
  },
  {
   "cell_type": "markdown",
   "metadata": {},
   "source": [
    "El objetivo de esta práctica es comprobar los efectos del sesgo y la varianza.\n",
    "Para esto aplicaremos regresión lineal regularizada para aprender una hipótesis sesgada, que no es capaz de\n",
    "clasificar correctamente a los ejemplos de entrenamiento, y a continuación usaremos de nuevo la\n",
    "regresión lineal para sobre-ajustar los datos de entrenamiento a un polinomio de grado superior.\n",
    "\n",
    "Comenzamos importando las librerías necesarias. Todas ellas han sido utilizadas y explicadas en prácticas anteriores."
   ]
  },
  {
   "cell_type": "code",
   "execution_count": 1,
   "metadata": {},
   "outputs": [],
   "source": [
    "from scipy.io import loadmat\n",
    "import numpy as np\n",
    "import scipy.optimize as opt\n",
    "import matplotlib.pyplot as plt\n",
    "import sklearn.preprocessing as skp"
   ]
  },
  {
   "cell_type": "markdown",
   "metadata": {},
   "source": [
    "## Regresión lineal regularizada"
   ]
  },
  {
   "cell_type": "markdown",
   "metadata": {},
   "source": [
    "Continuamos cargando los datos del fichero *ex5data1.mat* Este fichero contiene una serie de datos de entrenamiento, datos de validación y datos de prueba. Estos datos de prueba consisten en la cantidad de agua derramada en una presa ($X$) en base a los cambios en el nivel del agua ($y$)"
   ]
  },
  {
   "cell_type": "code",
   "execution_count": 2,
   "metadata": {},
   "outputs": [
    {
     "name": "stdout",
     "output_type": "stream",
     "text": [
      "(12, 1)\n",
      "(12, 1)\n",
      "(21, 1)\n",
      "(21, 1)\n"
     ]
    }
   ],
   "source": [
    "data = loadmat('ex5data1.mat')\n",
    "\n",
    "X = data['X']\n",
    "y = data['y']\n",
    "Xtest = data['Xtest']\n",
    "ytest = data['ytest']\n",
    "Xval = data['Xval']\n",
    "yval = data['yval']\n",
    "\n",
    "print(X.shape)\n",
    "print(y.shape)\n",
    "print(Xval.shape)\n",
    "print(yval.shape)"
   ]
  },
  {
   "cell_type": "markdown",
   "metadata": {},
   "source": [
    "Tras cargar los datos debemos crear una función para calcular el coste y el gradiente de la regresión lineal regularizada que siguen esta expresión:\n",
    "$$J(\\theta)=\\frac{1}{2m}(\\sum^m_{i=1}(h_\\theta(x^{(i)})-y^{(i)})^2)+\\frac{\\lambda}{2m}(\\sum^n_{j=1}\\theta^2_j)$$\n",
    "$$\\frac{\\delta J(\\theta)}{\\delta\\theta_0}=\\frac{1}{m}\\sum^m_{i=1}(h_\\theta(x^{(i)})-y^{(i)})x^{(i)}_j\\quad para\\: j = 0$$\n",
    "$$\\frac{\\delta J(\\theta)}{\\delta\\theta_0}=\\frac{1}{m}\\sum^m_{i=1}(h_\\theta(x^{(i)})-y^{(i)})x^{(i)}_j+\\frac{\\lambda}{m}\\theta_j\\quad para\\: j\\ge 1$$"
   ]
  },
  {
   "cell_type": "code",
   "execution_count": 3,
   "metadata": {},
   "outputs": [],
   "source": [
    "h = lambda x, t : t.dot(x.T)\n",
    "\n",
    "def coste(x, y, theta) :    \n",
    "    return 1/(2*len(x)) * (np.sum((h(x, theta)-y)**2))\n",
    "\n",
    "def costeReg(x, y, theta, lamb) :\n",
    "    return coste(x,y,theta) + lamb/(2*len(x))*np.sum(theta[1:]**2)\n",
    "\n",
    "def gradiente(theta, x, y, lamb) :\n",
    "    grad = 1/len(x) * (h(x, theta)-y).T.dot(x)\n",
    "    grad[1:] += theta[1:]*lamb/len(x)\n",
    "    return grad\n",
    "\n",
    "def regLinealReg(theta, x, y, lamb) :\n",
    "    y = y.ravel()\n",
    "    one = np.ones((x.shape[0],1))\n",
    "    x = np.hstack([one, x])\n",
    "    return(costeReg(x,y,theta,lamb), gradiente(theta,x,y,lamb))"
   ]
  },
  {
   "cell_type": "code",
   "execution_count": 4,
   "metadata": {},
   "outputs": [
    {
     "data": {
      "text/plain": [
       "(303.9931922202643, array([-15.30301567, 598.25074417]))"
      ]
     },
     "execution_count": 4,
     "metadata": {},
     "output_type": "execute_result"
    }
   ],
   "source": [
    "theta = np.ones((2,))\n",
    "regLinealReg(theta, X, y, 1)"
   ]
  },
  {
   "cell_type": "markdown",
   "metadata": {},
   "source": [
    "Una vez tenemos la función de coste y gradiente podemos usar el ***minimize*** de la librería *scipy.optimize* para obtener el conjunto de $\\theta s$  que dan lugar a la recta de regresión lineal."
   ]
  },
  {
   "cell_type": "code",
   "execution_count": 5,
   "metadata": {},
   "outputs": [
    {
     "data": {
      "text/plain": [
       "array([13.08790394,  0.36777923])"
      ]
     },
     "execution_count": 5,
     "metadata": {},
     "output_type": "execute_result"
    }
   ],
   "source": [
    "thetaOpt = opt.minimize(regLinealReg, theta, args = (X, y, 0), method='TNC', jac=True)['x']\n",
    "thetaOpt"
   ]
  },
  {
   "cell_type": "markdown",
   "metadata": {},
   "source": [
    "Para mostrar esta recta definimos una función ***graficarDatos*** (una modificación de la misma usada en la práctica 1) y usamos las $\\theta s$ obtenidas."
   ]
  },
  {
   "cell_type": "code",
   "execution_count": 6,
   "metadata": {},
   "outputs": [],
   "source": [
    "def graficarDatos(x, y, theta):\n",
    "    h = lambda x: theta[0] + theta[1]*x\n",
    "    \n",
    "    #Establece unos maximos y minimos para los ejes\n",
    "    ax = plt.gca()\n",
    "    ax.axis([x.min() - 5, x.max() + 5, y.min() - 10, y.max() + 5])\n",
    "\n",
    "    #Grafica la recta\n",
    "    plt.plot([x.min(), x.max()], [h(x.min()), h(x.max())], '-b')\n",
    "\n",
    "    #Grafica los datos\n",
    "    plt.plot(x, y, 'rx')\n",
    "    plt.xlabel('Cambio en nivel del agua')\n",
    "    plt.ylabel('Agua derramada fuera de la presa')\n",
    "    \n",
    "    plt.show()\n",
    "    \n",
    "    return"
   ]
  },
  {
   "cell_type": "code",
   "execution_count": 7,
   "metadata": {},
   "outputs": [
    {
     "data": {
      "image/png": "[encoded data removed]",
      "text/plain": [
       "<Figure size 432x288 with 1 Axes>"
      ]
     },
     "metadata": {},
     "output_type": "display_data"
    }
   ],
   "source": [
    "graficarDatos(X, y, thetaOpt)"
   ]
  },
  {
   "cell_type": "markdown",
   "metadata": {},
   "source": [
    "## Curvas de Aprendizaje"
   ]
  },
  {
   "cell_type": "markdown",
   "metadata": {},
   "source": [
    "La hipótesis elegida en el apartado anterior, una recta, es demasiado simple para ajustarse a los ejemplos de entrenamiento y por ello predice valores sesgados a la recta. Cuando los ejemplos vienen dados por más atributos no es posible tener una representación gráfica tan evidente. Por ello, se utilizan las curvas de aprendizaje para identificar situaciones de sub-ajuste (sesgo) o de sobre-ajuste (varianza).\n",
    "\n",
    "Para generar las curvas de aprendizaje, tenemos que repetir el entrenamiento por regresión lineal del apartado anterior utilizando diferentes subconjuntos de los datos de entrenamiento. \n",
    "\n",
    "Una vez realizado el entrenamiento para ajustarse al subconjunto X[0:i] e y[0:i], tenemos que evaluar el error del resultado aplicado a ese mismo subconjunto, así como el error al clasificar a todos los ejemplos del conjunto de validación (Xval e yval). "
   ]
  },
  {
   "cell_type": "code",
   "execution_count": 8,
   "metadata": {},
   "outputs": [],
   "source": [
    "trainError = np.zeros((len(X), 1))\n",
    "validationError = np.zeros((len(X), 1))"
   ]
  },
  {
   "cell_type": "code",
   "execution_count": 9,
   "metadata": {},
   "outputs": [],
   "source": [
    "def curvaAprendizaje(x, y, xval, yval, reg):\n",
    "    for i in range(1, len(x) + 1):\n",
    "        theta = np.ones((x.shape[1] + 1,))\n",
    "        thetaOpt = opt.minimize(regLinealReg, theta, args = (x[0:i], y[0:i], reg), method='TNC', jac=True)\n",
    "        thetaOpt = thetaOpt['x']\n",
    "  \n",
    "        trainError[i-1] = regLinealReg(thetaOpt, x[0:i], y[0:i], reg)[0]\n",
    " \n",
    "        validationError[i-1] = regLinealReg(thetaOpt, xval, yval, reg)[0]\n",
    "        \n",
    "    return (trainError, validationError)"
   ]
  },
  {
   "cell_type": "code",
   "execution_count": 10,
   "metadata": {
    "scrolled": true
   },
   "outputs": [
    {
     "data": {
      "text/plain": [
       "[<matplotlib.lines.Line2D at 0x1310217b0f0>]"
      ]
     },
     "execution_count": 10,
     "metadata": {},
     "output_type": "execute_result"
    },
    {
     "data": {
      "image/png": "[encoded data removed]",
      "text/plain": [
       "<Figure size 432x288 with 1 Axes>"
      ]
     },
     "metadata": {},
     "output_type": "display_data"
    }
   ],
   "source": [
    "train_e, validation_e = curvaAprendizaje(X, y, Xval, yval, 0)\n",
    "plt.plot(np.arange(1, len(X) + 1), train_e, 'b')\n",
    "plt.plot(np.arange(1, len(X) + 1), validation_e, 'r')"
   ]
  },
  {
   "cell_type": "markdown",
   "metadata": {},
   "source": [
    "## Regresión polinomial"
   ]
  },
  {
   "cell_type": "markdown",
   "metadata": {},
   "source": [
    "Para obtener un mayor ajuste a los datos de entrenamiento usaremos como hipótesis un polinomio de la entrada $x$:\n",
    "$$h(x)=\\theta_0+\\theta_1x+\\theta_2x^2+...+\\theta_{p-1}x^{p-1}+\\theta_px^p$$\n",
    "Comenzaremos definiendo una función ***polinomizar*** que se encargue de devolvernos esos valores $x,x^2,...,x^p$ para un vector de valores y una p dados."
   ]
  },
  {
   "cell_type": "code",
   "execution_count": 11,
   "metadata": {},
   "outputs": [],
   "source": [
    "def polinomizar(x, p) :\n",
    "    return skp.PolynomialFeatures(p,include_bias=False).fit_transform(x)"
   ]
  },
  {
   "cell_type": "markdown",
   "metadata": {},
   "source": [
    "Dado que los valores devueltos por la función serán de órdenes de magnitud muy distintos en cada una de sus columnas es necesario normalizar las columnas de modo que tengan una media de 0 y una desviación de 1."
   ]
  },
  {
   "cell_type": "code",
   "execution_count": 12,
   "metadata": {},
   "outputs": [],
   "source": [
    "def normalizar(x) :\n",
    "    mu = np.mean(x,0)\n",
    "    s = np.std(x,0)\n",
    "    \n",
    "    x = (x-mu)/s\n",
    "    \n",
    "    return (x, mu, s)"
   ]
  },
  {
   "cell_type": "code",
   "execution_count": 13,
   "metadata": {},
   "outputs": [],
   "source": [
    "p = polinomizar(X,8)\n",
    "p = normalizar(p)\n",
    "theta = np.zeros((p[0][0].size+1,))\n",
    "thetaOpt = opt.minimize(regLinealReg, theta, args = (p[0], y, 0), method='TNC', jac=True)['x']"
   ]
  },
  {
   "cell_type": "code",
   "execution_count": 14,
   "metadata": {},
   "outputs": [],
   "source": [
    "pX = np.arange(X.min()-5, X.max()+5, 0.05)\n",
    "poly = polinomizar(pX.reshape(-1,1), 8)\n",
    "poly = (poly-p[1])/p[2]\n",
    "one = np.ones((poly.shape[0],1))\n",
    "poly = np.hstack([one, poly])\n",
    "\n",
    "puntosY = h(poly,thetaOpt)"
   ]
  },
  {
   "cell_type": "code",
   "execution_count": 15,
   "metadata": {},
   "outputs": [],
   "source": [
    "def graficarDatosPoly(x, y, pX, pY):    \n",
    "    #Establece unos maximos y minimos para los ejes\n",
    "    ax = plt.gca()\n",
    "    \n",
    "    #Grafica los datos\n",
    "    plt.plot(x, y, 'rx')\n",
    "    plt.plot(pX, pY, '-b')\n",
    "    plt.xlabel('Cambio en nivel del agua')\n",
    "    plt.ylabel('Agua derramada fuera de la presa')\n",
    "    ax.axis([pX.min()-5, pX.max()+2, pY.min()-10, pY.max()+5])\n",
    "    plt.show()\n",
    "    \n",
    "    return"
   ]
  },
  {
   "cell_type": "code",
   "execution_count": 16,
   "metadata": {},
   "outputs": [
    {
     "data": {
      "image/png": "[encoded data removed]",
      "text/plain": [
       "<Figure size 432x288 with 1 Axes>"
      ]
     },
     "metadata": {},
     "output_type": "display_data"
    }
   ],
   "source": [
    "graficarDatosPoly(X, y, pX, puntosY)"
   ]
  },
  {
   "cell_type": "code",
   "execution_count": 17,
   "metadata": {
    "scrolled": true
   },
   "outputs": [
    {
     "data": {
      "text/plain": [
       "[<matplotlib.lines.Line2D at 0x13102480c18>]"
      ]
     },
     "execution_count": 17,
     "metadata": {},
     "output_type": "execute_result"
    },
    {
     "data": {
      "image/png": "[encoded data removed]",
      "text/plain": [
       "<Figure size 432x288 with 1 Axes>"
      ]
     },
     "metadata": {},
     "output_type": "display_data"
    }
   ],
   "source": [
    "poly_Xval = polinomizar(Xval, 8)\n",
    "poly_Xval = (poly_Xval-p[1])/p[2]\n",
    "\n",
    "\n",
    "train_e, validation_e = curvaAprendizaje(p[0], y, poly_Xval, yval, 0)\n",
    "plt.plot(np.arange(1, len(p[0]) + 1), train_e, 'b')\n",
    "plt.plot(np.arange(1, len(p[0]) + 1), validation_e, 'r')"
   ]
  },
  {
   "cell_type": "code",
   "execution_count": 18,
   "metadata": {},
   "outputs": [],
   "source": [
    "#Falta añadir la leyenda y las etiquetas a mis graficas\n",
    "#Y cuando esté bien esta gráfica, probarlo con diferentes terminos de regularizacion como pone en el enunciado"
   ]
  },
  {
   "cell_type": "code",
   "execution_count": null,
   "metadata": {},
   "outputs": [],
   "source": []
  },
  {
   "cell_type": "code",
   "execution_count": null,
   "metadata": {},
   "outputs": [],
   "source": []
  }
 ],
 "metadata": {
  "kernelspec": {
   "display_name": "Python 3",
   "language": "python",
   "name": "python3"
  },
  "language_info": {
   "codemirror_mode": {
    "name": "ipython",
    "version": 3
   },
   "file_extension": ".py",
   "mimetype": "text/x-python",
   "name": "python",
   "nbconvert_exporter": "python",
   "pygments_lexer": "ipython3",
   "version": "3.6.5"
  }
 },
 "nbformat": 4,
 "nbformat_minor": 2
}
